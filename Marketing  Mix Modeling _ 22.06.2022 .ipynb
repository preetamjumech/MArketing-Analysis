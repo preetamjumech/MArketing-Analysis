{
 "cells": [
  {
   "cell_type": "code",
   "execution_count": 1,
   "id": "65a1ca64",
   "metadata": {},
   "outputs": [],
   "source": [
    "import numpy as np\n",
    "import pandas as pd\n",
    "import matplotlib.pyplot as plt\n",
    "%matplotlib inline"
   ]
  },
  {
   "cell_type": "code",
   "execution_count": 2,
   "id": "1dfa42ef",
   "metadata": {},
   "outputs": [
    {
     "data": {
      "text/html": [
       "<div>\n",
       "<style scoped>\n",
       "    .dataframe tbody tr th:only-of-type {\n",
       "        vertical-align: middle;\n",
       "    }\n",
       "\n",
       "    .dataframe tbody tr th {\n",
       "        vertical-align: top;\n",
       "    }\n",
       "\n",
       "    .dataframe thead th {\n",
       "        text-align: right;\n",
       "    }\n",
       "</style>\n",
       "<table border=\"1\" class=\"dataframe\">\n",
       "  <thead>\n",
       "    <tr style=\"text-align: right;\">\n",
       "      <th></th>\n",
       "      <th>Sales</th>\n",
       "      <th>Price</th>\n",
       "      <th>Feature</th>\n",
       "      <th>Display</th>\n",
       "      <th>Price - Competitor 1</th>\n",
       "      <th>Price - Competitor 2</th>\n",
       "      <th>Price - Competitor 3</th>\n",
       "      <th>Price - Competitor 4</th>\n",
       "      <th>Price - Competitor 5</th>\n",
       "      <th>Unnamed: 9</th>\n",
       "      <th>Unnamed: 10</th>\n",
       "    </tr>\n",
       "  </thead>\n",
       "  <tbody>\n",
       "    <tr>\n",
       "      <th>0</th>\n",
       "      <td>20</td>\n",
       "      <td>5.69</td>\n",
       "      <td>0</td>\n",
       "      <td>0</td>\n",
       "      <td>4.07</td>\n",
       "      <td>4.11</td>\n",
       "      <td>5.28</td>\n",
       "      <td>4.69</td>\n",
       "      <td>3.29</td>\n",
       "      <td>NaN</td>\n",
       "      <td>NaN</td>\n",
       "    </tr>\n",
       "    <tr>\n",
       "      <th>1</th>\n",
       "      <td>26</td>\n",
       "      <td>5.97</td>\n",
       "      <td>0</td>\n",
       "      <td>0</td>\n",
       "      <td>4.07</td>\n",
       "      <td>3.78</td>\n",
       "      <td>5.25</td>\n",
       "      <td>3.95</td>\n",
       "      <td>3.49</td>\n",
       "      <td>NaN</td>\n",
       "      <td>NaN</td>\n",
       "    </tr>\n",
       "    <tr>\n",
       "      <th>2</th>\n",
       "      <td>41</td>\n",
       "      <td>6.19</td>\n",
       "      <td>0</td>\n",
       "      <td>0</td>\n",
       "      <td>4.06</td>\n",
       "      <td>3.42</td>\n",
       "      <td>5.54</td>\n",
       "      <td>3.33</td>\n",
       "      <td>3.69</td>\n",
       "      <td>NaN</td>\n",
       "      <td>NaN</td>\n",
       "    </tr>\n",
       "    <tr>\n",
       "      <th>3</th>\n",
       "      <td>34</td>\n",
       "      <td>5.78</td>\n",
       "      <td>0</td>\n",
       "      <td>0</td>\n",
       "      <td>4.07</td>\n",
       "      <td>3.51</td>\n",
       "      <td>4.50</td>\n",
       "      <td>3.97</td>\n",
       "      <td>2.17</td>\n",
       "      <td>NaN</td>\n",
       "      <td>NaN</td>\n",
       "    </tr>\n",
       "    <tr>\n",
       "      <th>4</th>\n",
       "      <td>32</td>\n",
       "      <td>6.19</td>\n",
       "      <td>0</td>\n",
       "      <td>0</td>\n",
       "      <td>4.07</td>\n",
       "      <td>3.40</td>\n",
       "      <td>5.50</td>\n",
       "      <td>2.76</td>\n",
       "      <td>3.69</td>\n",
       "      <td>NaN</td>\n",
       "      <td>NaN</td>\n",
       "    </tr>\n",
       "  </tbody>\n",
       "</table>\n",
       "</div>"
      ],
      "text/plain": [
       "  Sales  Price  Feature  Display  Price - Competitor 1  Price - Competitor 2  \\\n",
       "0    20   5.69        0        0                  4.07                  4.11   \n",
       "1    26   5.97        0        0                  4.07                  3.78   \n",
       "2    41   6.19        0        0                  4.06                  3.42   \n",
       "3    34   5.78        0        0                  4.07                  3.51   \n",
       "4    32   6.19        0        0                  4.07                  3.40   \n",
       "\n",
       "   Price - Competitor 3  Price - Competitor 4  Price - Competitor 5  \\\n",
       "0                  5.28                  4.69                  3.29   \n",
       "1                  5.25                  3.95                  3.49   \n",
       "2                  5.54                  3.33                  3.69   \n",
       "3                  4.50                  3.97                  2.17   \n",
       "4                  5.50                  2.76                  3.69   \n",
       "\n",
       "   Unnamed: 9  Unnamed: 10  \n",
       "0         NaN          NaN  \n",
       "1         NaN          NaN  \n",
       "2         NaN          NaN  \n",
       "3         NaN          NaN  \n",
       "4         NaN          NaN  "
      ]
     },
     "execution_count": 2,
     "metadata": {},
     "output_type": "execute_result"
    }
   ],
   "source": [
    "df= pd.read_csv(\"Data-MMM-All.csv\")\n",
    "df.head()"
   ]
  },
  {
   "cell_type": "code",
   "execution_count": 3,
   "id": "040ec3b9",
   "metadata": {},
   "outputs": [
    {
     "data": {
      "text/plain": [
       "Index(['Sales', 'Price', 'Feature', 'Display', 'Price - Competitor 1',\n",
       "       'Price - Competitor 2', 'Price - Competitor 3', 'Price - Competitor 4',\n",
       "       'Price - Competitor 5', 'Unnamed: 9', 'Unnamed: 10'],\n",
       "      dtype='object')"
      ]
     },
     "execution_count": 3,
     "metadata": {},
     "output_type": "execute_result"
    }
   ],
   "source": [
    "df.columns"
   ]
  },
  {
   "cell_type": "code",
   "execution_count": 4,
   "id": "10c836c5",
   "metadata": {},
   "outputs": [
    {
     "data": {
      "text/html": [
       "<div>\n",
       "<style scoped>\n",
       "    .dataframe tbody tr th:only-of-type {\n",
       "        vertical-align: middle;\n",
       "    }\n",
       "\n",
       "    .dataframe tbody tr th {\n",
       "        vertical-align: top;\n",
       "    }\n",
       "\n",
       "    .dataframe thead th {\n",
       "        text-align: right;\n",
       "    }\n",
       "</style>\n",
       "<table border=\"1\" class=\"dataframe\">\n",
       "  <thead>\n",
       "    <tr style=\"text-align: right;\">\n",
       "      <th></th>\n",
       "      <th>Sales</th>\n",
       "      <th>Price</th>\n",
       "      <th>Feature</th>\n",
       "      <th>Display</th>\n",
       "      <th>Price - Competitor 1</th>\n",
       "      <th>Price - Competitor 2</th>\n",
       "      <th>Price - Competitor 3</th>\n",
       "      <th>Price - Competitor 4</th>\n",
       "      <th>Price - Competitor 5</th>\n",
       "    </tr>\n",
       "  </thead>\n",
       "  <tbody>\n",
       "    <tr>\n",
       "      <th>0</th>\n",
       "      <td>20</td>\n",
       "      <td>5.69</td>\n",
       "      <td>0</td>\n",
       "      <td>0</td>\n",
       "      <td>4.07</td>\n",
       "      <td>4.11</td>\n",
       "      <td>5.28</td>\n",
       "      <td>4.69</td>\n",
       "      <td>3.29</td>\n",
       "    </tr>\n",
       "    <tr>\n",
       "      <th>1</th>\n",
       "      <td>26</td>\n",
       "      <td>5.97</td>\n",
       "      <td>0</td>\n",
       "      <td>0</td>\n",
       "      <td>4.07</td>\n",
       "      <td>3.78</td>\n",
       "      <td>5.25</td>\n",
       "      <td>3.95</td>\n",
       "      <td>3.49</td>\n",
       "    </tr>\n",
       "    <tr>\n",
       "      <th>2</th>\n",
       "      <td>41</td>\n",
       "      <td>6.19</td>\n",
       "      <td>0</td>\n",
       "      <td>0</td>\n",
       "      <td>4.06</td>\n",
       "      <td>3.42</td>\n",
       "      <td>5.54</td>\n",
       "      <td>3.33</td>\n",
       "      <td>3.69</td>\n",
       "    </tr>\n",
       "    <tr>\n",
       "      <th>3</th>\n",
       "      <td>34</td>\n",
       "      <td>5.78</td>\n",
       "      <td>0</td>\n",
       "      <td>0</td>\n",
       "      <td>4.07</td>\n",
       "      <td>3.51</td>\n",
       "      <td>4.50</td>\n",
       "      <td>3.97</td>\n",
       "      <td>2.17</td>\n",
       "    </tr>\n",
       "    <tr>\n",
       "      <th>4</th>\n",
       "      <td>32</td>\n",
       "      <td>6.19</td>\n",
       "      <td>0</td>\n",
       "      <td>0</td>\n",
       "      <td>4.07</td>\n",
       "      <td>3.40</td>\n",
       "      <td>5.50</td>\n",
       "      <td>2.76</td>\n",
       "      <td>3.69</td>\n",
       "    </tr>\n",
       "  </tbody>\n",
       "</table>\n",
       "</div>"
      ],
      "text/plain": [
       "  Sales  Price  Feature  Display  Price - Competitor 1  Price - Competitor 2  \\\n",
       "0    20   5.69        0        0                  4.07                  4.11   \n",
       "1    26   5.97        0        0                  4.07                  3.78   \n",
       "2    41   6.19        0        0                  4.06                  3.42   \n",
       "3    34   5.78        0        0                  4.07                  3.51   \n",
       "4    32   6.19        0        0                  4.07                  3.40   \n",
       "\n",
       "   Price - Competitor 3  Price - Competitor 4  Price - Competitor 5  \n",
       "0                  5.28                  4.69                  3.29  \n",
       "1                  5.25                  3.95                  3.49  \n",
       "2                  5.54                  3.33                  3.69  \n",
       "3                  4.50                  3.97                  2.17  \n",
       "4                  5.50                  2.76                  3.69  "
      ]
     },
     "execution_count": 4,
     "metadata": {},
     "output_type": "execute_result"
    }
   ],
   "source": [
    "df=df.drop([\"Unnamed: 9\",\"Unnamed: 10\"],axis=1)\n",
    "df.head()"
   ]
  },
  {
   "cell_type": "code",
   "execution_count": 5,
   "id": "9d1e9c25",
   "metadata": {},
   "outputs": [],
   "source": [
    "from sklearn.linear_model import LinearRegression\n",
    "from sklearn.model_selection import train_test_split\n",
    "from sklearn.metrics import r2_score\n",
    "import statsmodels.api as sm"
   ]
  },
  {
   "cell_type": "code",
   "execution_count": 6,
   "id": "0e6cb68d",
   "metadata": {},
   "outputs": [
    {
     "name": "stdout",
     "output_type": "stream",
     "text": [
      "<class 'pandas.core.frame.DataFrame'>\n",
      "RangeIndex: 4191 entries, 0 to 4190\n",
      "Data columns (total 9 columns):\n",
      " #   Column                Non-Null Count  Dtype  \n",
      "---  ------                --------------  -----  \n",
      " 0   Sales                 4191 non-null   object \n",
      " 1   Price                 4191 non-null   float64\n",
      " 2   Feature               4191 non-null   int64  \n",
      " 3   Display               4191 non-null   int64  \n",
      " 4   Price - Competitor 1  4191 non-null   float64\n",
      " 5   Price - Competitor 2  4191 non-null   float64\n",
      " 6   Price - Competitor 3  4191 non-null   float64\n",
      " 7   Price - Competitor 4  4191 non-null   float64\n",
      " 8   Price - Competitor 5  4191 non-null   float64\n",
      "dtypes: float64(6), int64(2), object(1)\n",
      "memory usage: 294.8+ KB\n"
     ]
    }
   ],
   "source": [
    "df.info()"
   ]
  },
  {
   "cell_type": "code",
   "execution_count": 7,
   "id": "2c248351",
   "metadata": {},
   "outputs": [
    {
     "data": {
      "text/plain": [
       "array(['20', '26', '41', '34', '32', '33', '565', '48', '524', '37',\n",
       "       '109', '46', '146', '76', '279', '24', '38', '42', '30', '75',\n",
       "       '44', '16', '45', '62', '71', '80', '22', '50', '65', '25', '102',\n",
       "       '36', '210', '57', '100', '84', '14', '82', '23', '21', '56', '40',\n",
       "       '19', '159', '89', '138', '305', '83', '31', '52', '147', '99',\n",
       "       '194', '387', '53', '27', '61', '35', '15', '17', '137', '117',\n",
       "       '143', '238', '231', '5', '67', '68', '69', '359', '199', '207',\n",
       "       '55', '51', '176', '72', '28', '228', '95', '179', '380', '60',\n",
       "       '66', '112', '183', '29', '11', '132', '211', '58', '125', '519',\n",
       "       '12', '13', '39', '43', '242', '78', '372', '79', '64', '118',\n",
       "       '166', '91', '283', '9', '49', '136', '177', '73', '223', '133',\n",
       "       '96', '63', '107', '59', '47', '158', '54', '198', '126', '241',\n",
       "       '545', '192', '441', '129', '70', '119', '121', '114', '426',\n",
       "       '139', '86', '245', '259', '415', '110', '104', '6', '106', '202',\n",
       "       '171', '85', '286', '87', '123', '482', '193', '167', '141', '296',\n",
       "       '459', '115', '209', '18', '175', '348', '345', '144', '370', '8',\n",
       "       '381', '783', '74', '98', '273', '127', '322', '128', '527',\n",
       "       '1,145', '120', '77', '140', '131', '184', '196', '124', '155',\n",
       "       '145', '92', '101', '164', '94', '479', '165', '561', '451', '315',\n",
       "       '288', '105', '350', '81', '186', '714', '205', '160', '153', '97',\n",
       "       '108', '237', '154', '293', '206', '264', '185', '224', '93',\n",
       "       '191', '266', '232', '220', '219', '116', '168', '113', '197',\n",
       "       '227', '265', '88', '163', '122', '7', '173', '103', '222', '150',\n",
       "       '216', '274', '182', '10', '161', '383', '363', '277', '188',\n",
       "       '204', '135', '261', '218', '180', '148', '172', '309', '813',\n",
       "       '396', '486', '591', '306', '200', '1,053', '324', '111', '149',\n",
       "       '290', '260', '189', '213', '2', '201', '319', '405', '217', '854',\n",
       "       '472', '278', '254', '244', '560', '162', '269', '90', '157',\n",
       "       '343', '301', '295', '230', '152', '251', '249', '287', '214',\n",
       "       '355', '367', '151', '253', '310', '341', '170', '208', '291',\n",
       "       '330', '356', '349', '130', '282', '225', '257', '338', '432',\n",
       "       '344', '316', '235', '365', '514', '407', '174', '258', '134',\n",
       "       '369', '285', '461', '550', '4', '203', '229', '169', '979', '252',\n",
       "       '221', '156', '284', '195', '181', '869', '246', '735', '294',\n",
       "       '669', '236', '3', '500', '271', '480', '276', '321', '239', '569',\n",
       "       '226', '240', '768', '262', '392', '785', '401', '268', '859',\n",
       "       '420', '574', '599', '272', '275', '377', '234', '678', '723',\n",
       "       '621', '477', '644', '212', '289', '648', '215', '439', '470',\n",
       "       '243', '250', '142', '178', '304', '342', '312', '267', '187',\n",
       "       '270', '371', '280', '190', '347', '332', '337', '314', '335'],\n",
       "      dtype=object)"
      ]
     },
     "execution_count": 7,
     "metadata": {},
     "output_type": "execute_result"
    }
   ],
   "source": [
    "df[\"Sales\"].unique()"
   ]
  },
  {
   "cell_type": "code",
   "execution_count": 8,
   "id": "9b412f6e",
   "metadata": {},
   "outputs": [],
   "source": [
    "df[\"Sales\"]=df[\"Sales\"].apply(lambda x: x.replace(\",\",\"\"))"
   ]
  },
  {
   "cell_type": "code",
   "execution_count": 9,
   "id": "7842d3d4",
   "metadata": {},
   "outputs": [
    {
     "data": {
      "text/plain": [
       "0        20\n",
       "1        26\n",
       "2        41\n",
       "3        34\n",
       "4        32\n",
       "       ... \n",
       "4186     65\n",
       "4187     78\n",
       "4188     12\n",
       "4189     16\n",
       "4190    265\n",
       "Name: Sales, Length: 4191, dtype: object"
      ]
     },
     "execution_count": 9,
     "metadata": {},
     "output_type": "execute_result"
    }
   ],
   "source": [
    "df[\"Sales\"]"
   ]
  },
  {
   "cell_type": "code",
   "execution_count": 10,
   "id": "9de05759",
   "metadata": {},
   "outputs": [],
   "source": [
    "df[\"Sales\"]=df[\"Sales\"].apply(lambda x: float(x))"
   ]
  },
  {
   "cell_type": "code",
   "execution_count": 11,
   "id": "773b0f7c",
   "metadata": {},
   "outputs": [],
   "source": [
    "X=df.iloc[:,1:]\n",
    "y=df.iloc[:,0]"
   ]
  },
  {
   "cell_type": "markdown",
   "id": "ad16e56f",
   "metadata": {},
   "source": [
    "# Train Test Split in 80:20 ratio"
   ]
  },
  {
   "cell_type": "code",
   "execution_count": 12,
   "id": "09612d6d",
   "metadata": {},
   "outputs": [],
   "source": [
    "X_train, X_test, y_train, y_test = train_test_split(X, y, test_size=0.2, random_state=42)"
   ]
  },
  {
   "cell_type": "code",
   "execution_count": 13,
   "id": "4db054f0",
   "metadata": {},
   "outputs": [
    {
     "data": {
      "text/html": [
       "<div>\n",
       "<style scoped>\n",
       "    .dataframe tbody tr th:only-of-type {\n",
       "        vertical-align: middle;\n",
       "    }\n",
       "\n",
       "    .dataframe tbody tr th {\n",
       "        vertical-align: top;\n",
       "    }\n",
       "\n",
       "    .dataframe thead th {\n",
       "        text-align: right;\n",
       "    }\n",
       "</style>\n",
       "<table border=\"1\" class=\"dataframe\">\n",
       "  <thead>\n",
       "    <tr style=\"text-align: right;\">\n",
       "      <th></th>\n",
       "      <th>Price</th>\n",
       "      <th>Feature</th>\n",
       "      <th>Display</th>\n",
       "      <th>Price - Competitor 1</th>\n",
       "      <th>Price - Competitor 2</th>\n",
       "      <th>Price - Competitor 3</th>\n",
       "      <th>Price - Competitor 4</th>\n",
       "      <th>Price - Competitor 5</th>\n",
       "    </tr>\n",
       "  </thead>\n",
       "  <tbody>\n",
       "    <tr>\n",
       "      <th>2459</th>\n",
       "      <td>5.89</td>\n",
       "      <td>0</td>\n",
       "      <td>0</td>\n",
       "      <td>3.39</td>\n",
       "      <td>3.51</td>\n",
       "      <td>5.42</td>\n",
       "      <td>4.31</td>\n",
       "      <td>2.62</td>\n",
       "    </tr>\n",
       "    <tr>\n",
       "      <th>2600</th>\n",
       "      <td>6.29</td>\n",
       "      <td>0</td>\n",
       "      <td>0</td>\n",
       "      <td>4.78</td>\n",
       "      <td>3.90</td>\n",
       "      <td>6.11</td>\n",
       "      <td>3.70</td>\n",
       "      <td>3.79</td>\n",
       "    </tr>\n",
       "    <tr>\n",
       "      <th>3082</th>\n",
       "      <td>5.79</td>\n",
       "      <td>0</td>\n",
       "      <td>0</td>\n",
       "      <td>4.88</td>\n",
       "      <td>4.20</td>\n",
       "      <td>5.99</td>\n",
       "      <td>4.79</td>\n",
       "      <td>3.39</td>\n",
       "    </tr>\n",
       "    <tr>\n",
       "      <th>862</th>\n",
       "      <td>5.89</td>\n",
       "      <td>0</td>\n",
       "      <td>0</td>\n",
       "      <td>4.32</td>\n",
       "      <td>3.66</td>\n",
       "      <td>5.68</td>\n",
       "      <td>4.78</td>\n",
       "      <td>3.29</td>\n",
       "    </tr>\n",
       "    <tr>\n",
       "      <th>3990</th>\n",
       "      <td>5.27</td>\n",
       "      <td>0</td>\n",
       "      <td>0</td>\n",
       "      <td>5.29</td>\n",
       "      <td>4.21</td>\n",
       "      <td>6.39</td>\n",
       "      <td>4.04</td>\n",
       "      <td>3.89</td>\n",
       "    </tr>\n",
       "  </tbody>\n",
       "</table>\n",
       "</div>"
      ],
      "text/plain": [
       "      Price  Feature  Display  Price - Competitor 1  Price - Competitor 2  \\\n",
       "2459   5.89        0        0                  3.39                  3.51   \n",
       "2600   6.29        0        0                  4.78                  3.90   \n",
       "3082   5.79        0        0                  4.88                  4.20   \n",
       "862    5.89        0        0                  4.32                  3.66   \n",
       "3990   5.27        0        0                  5.29                  4.21   \n",
       "\n",
       "      Price - Competitor 3  Price - Competitor 4  Price - Competitor 5  \n",
       "2459                  5.42                  4.31                  2.62  \n",
       "2600                  6.11                  3.70                  3.79  \n",
       "3082                  5.99                  4.79                  3.39  \n",
       "862                   5.68                  4.78                  3.29  \n",
       "3990                  6.39                  4.04                  3.89  "
      ]
     },
     "execution_count": 13,
     "metadata": {},
     "output_type": "execute_result"
    }
   ],
   "source": [
    "X_train.head()"
   ]
  },
  {
   "cell_type": "markdown",
   "id": "3400366e",
   "metadata": {},
   "source": [
    "# Taking only price as independent Feature"
   ]
  },
  {
   "cell_type": "code",
   "execution_count": 14,
   "id": "3827b0d5",
   "metadata": {},
   "outputs": [],
   "source": [
    "X_1=X_train.iloc[:,0]\n",
    "y_1=y_train"
   ]
  },
  {
   "cell_type": "code",
   "execution_count": 15,
   "id": "22c70785",
   "metadata": {},
   "outputs": [
    {
     "data": {
      "text/plain": [
       "2459    5.89\n",
       "2600    6.29\n",
       "3082    5.79\n",
       "862     5.89\n",
       "3990    5.27\n",
       "        ... \n",
       "3444    6.29\n",
       "466     5.02\n",
       "3092    5.89\n",
       "3772    5.50\n",
       "860     6.19\n",
       "Name: Price, Length: 3352, dtype: float64"
      ]
     },
     "execution_count": 15,
     "metadata": {},
     "output_type": "execute_result"
    }
   ],
   "source": [
    "X_1"
   ]
  },
  {
   "cell_type": "code",
   "execution_count": 16,
   "id": "ea7ed86a",
   "metadata": {},
   "outputs": [
    {
     "data": {
      "text/plain": [
       "2459     61.0\n",
       "2600     34.0\n",
       "3082      3.0\n",
       "862      61.0\n",
       "3990    150.0\n",
       "        ...  \n",
       "3444     14.0\n",
       "466     120.0\n",
       "3092     15.0\n",
       "3772     33.0\n",
       "860      66.0\n",
       "Name: Sales, Length: 3352, dtype: float64"
      ]
     },
     "execution_count": 16,
     "metadata": {},
     "output_type": "execute_result"
    }
   ],
   "source": [
    "y_1"
   ]
  },
  {
   "cell_type": "code",
   "execution_count": 17,
   "id": "23b84f5f",
   "metadata": {},
   "outputs": [
    {
     "data": {
      "text/html": [
       "<div>\n",
       "<style scoped>\n",
       "    .dataframe tbody tr th:only-of-type {\n",
       "        vertical-align: middle;\n",
       "    }\n",
       "\n",
       "    .dataframe tbody tr th {\n",
       "        vertical-align: top;\n",
       "    }\n",
       "\n",
       "    .dataframe thead th {\n",
       "        text-align: right;\n",
       "    }\n",
       "</style>\n",
       "<table border=\"1\" class=\"dataframe\">\n",
       "  <thead>\n",
       "    <tr style=\"text-align: right;\">\n",
       "      <th></th>\n",
       "      <th>Price</th>\n",
       "      <th>Feature</th>\n",
       "      <th>Display</th>\n",
       "      <th>Price - Competitor 1</th>\n",
       "      <th>Price - Competitor 2</th>\n",
       "      <th>Price - Competitor 3</th>\n",
       "      <th>Price - Competitor 4</th>\n",
       "      <th>Price - Competitor 5</th>\n",
       "    </tr>\n",
       "  </thead>\n",
       "  <tbody>\n",
       "    <tr>\n",
       "      <th>2459</th>\n",
       "      <td>5.89</td>\n",
       "      <td>0</td>\n",
       "      <td>0</td>\n",
       "      <td>3.39</td>\n",
       "      <td>3.51</td>\n",
       "      <td>5.42</td>\n",
       "      <td>4.31</td>\n",
       "      <td>2.62</td>\n",
       "    </tr>\n",
       "    <tr>\n",
       "      <th>2600</th>\n",
       "      <td>6.29</td>\n",
       "      <td>0</td>\n",
       "      <td>0</td>\n",
       "      <td>4.78</td>\n",
       "      <td>3.90</td>\n",
       "      <td>6.11</td>\n",
       "      <td>3.70</td>\n",
       "      <td>3.79</td>\n",
       "    </tr>\n",
       "    <tr>\n",
       "      <th>3082</th>\n",
       "      <td>5.79</td>\n",
       "      <td>0</td>\n",
       "      <td>0</td>\n",
       "      <td>4.88</td>\n",
       "      <td>4.20</td>\n",
       "      <td>5.99</td>\n",
       "      <td>4.79</td>\n",
       "      <td>3.39</td>\n",
       "    </tr>\n",
       "    <tr>\n",
       "      <th>862</th>\n",
       "      <td>5.89</td>\n",
       "      <td>0</td>\n",
       "      <td>0</td>\n",
       "      <td>4.32</td>\n",
       "      <td>3.66</td>\n",
       "      <td>5.68</td>\n",
       "      <td>4.78</td>\n",
       "      <td>3.29</td>\n",
       "    </tr>\n",
       "    <tr>\n",
       "      <th>3990</th>\n",
       "      <td>5.27</td>\n",
       "      <td>0</td>\n",
       "      <td>0</td>\n",
       "      <td>5.29</td>\n",
       "      <td>4.21</td>\n",
       "      <td>6.39</td>\n",
       "      <td>4.04</td>\n",
       "      <td>3.89</td>\n",
       "    </tr>\n",
       "    <tr>\n",
       "      <th>...</th>\n",
       "      <td>...</td>\n",
       "      <td>...</td>\n",
       "      <td>...</td>\n",
       "      <td>...</td>\n",
       "      <td>...</td>\n",
       "      <td>...</td>\n",
       "      <td>...</td>\n",
       "      <td>...</td>\n",
       "    </tr>\n",
       "    <tr>\n",
       "      <th>3444</th>\n",
       "      <td>6.29</td>\n",
       "      <td>0</td>\n",
       "      <td>0</td>\n",
       "      <td>4.99</td>\n",
       "      <td>3.62</td>\n",
       "      <td>5.89</td>\n",
       "      <td>3.73</td>\n",
       "      <td>3.79</td>\n",
       "    </tr>\n",
       "    <tr>\n",
       "      <th>466</th>\n",
       "      <td>5.02</td>\n",
       "      <td>1</td>\n",
       "      <td>0</td>\n",
       "      <td>3.93</td>\n",
       "      <td>4.00</td>\n",
       "      <td>6.33</td>\n",
       "      <td>4.51</td>\n",
       "      <td>2.45</td>\n",
       "    </tr>\n",
       "    <tr>\n",
       "      <th>3092</th>\n",
       "      <td>5.89</td>\n",
       "      <td>0</td>\n",
       "      <td>0</td>\n",
       "      <td>4.89</td>\n",
       "      <td>3.55</td>\n",
       "      <td>5.99</td>\n",
       "      <td>4.89</td>\n",
       "      <td>3.49</td>\n",
       "    </tr>\n",
       "    <tr>\n",
       "      <th>3772</th>\n",
       "      <td>5.50</td>\n",
       "      <td>0</td>\n",
       "      <td>0</td>\n",
       "      <td>2.99</td>\n",
       "      <td>3.69</td>\n",
       "      <td>5.00</td>\n",
       "      <td>3.50</td>\n",
       "      <td>2.00</td>\n",
       "    </tr>\n",
       "    <tr>\n",
       "      <th>860</th>\n",
       "      <td>6.19</td>\n",
       "      <td>0</td>\n",
       "      <td>0</td>\n",
       "      <td>3.81</td>\n",
       "      <td>3.34</td>\n",
       "      <td>5.87</td>\n",
       "      <td>4.69</td>\n",
       "      <td>3.69</td>\n",
       "    </tr>\n",
       "  </tbody>\n",
       "</table>\n",
       "<p>3352 rows × 8 columns</p>\n",
       "</div>"
      ],
      "text/plain": [
       "      Price  Feature  Display  Price - Competitor 1  Price - Competitor 2  \\\n",
       "2459   5.89        0        0                  3.39                  3.51   \n",
       "2600   6.29        0        0                  4.78                  3.90   \n",
       "3082   5.79        0        0                  4.88                  4.20   \n",
       "862    5.89        0        0                  4.32                  3.66   \n",
       "3990   5.27        0        0                  5.29                  4.21   \n",
       "...     ...      ...      ...                   ...                   ...   \n",
       "3444   6.29        0        0                  4.99                  3.62   \n",
       "466    5.02        1        0                  3.93                  4.00   \n",
       "3092   5.89        0        0                  4.89                  3.55   \n",
       "3772   5.50        0        0                  2.99                  3.69   \n",
       "860    6.19        0        0                  3.81                  3.34   \n",
       "\n",
       "      Price - Competitor 3  Price - Competitor 4  Price - Competitor 5  \n",
       "2459                  5.42                  4.31                  2.62  \n",
       "2600                  6.11                  3.70                  3.79  \n",
       "3082                  5.99                  4.79                  3.39  \n",
       "862                   5.68                  4.78                  3.29  \n",
       "3990                  6.39                  4.04                  3.89  \n",
       "...                    ...                   ...                   ...  \n",
       "3444                  5.89                  3.73                  3.79  \n",
       "466                   6.33                  4.51                  2.45  \n",
       "3092                  5.99                  4.89                  3.49  \n",
       "3772                  5.00                  3.50                  2.00  \n",
       "860                   5.87                  4.69                  3.69  \n",
       "\n",
       "[3352 rows x 8 columns]"
      ]
     },
     "execution_count": 17,
     "metadata": {},
     "output_type": "execute_result"
    }
   ],
   "source": [
    "X_train"
   ]
  },
  {
   "cell_type": "code",
   "execution_count": 18,
   "id": "c07e3ae3",
   "metadata": {},
   "outputs": [
    {
     "data": {
      "text/html": [
       "<div>\n",
       "<style scoped>\n",
       "    .dataframe tbody tr th:only-of-type {\n",
       "        vertical-align: middle;\n",
       "    }\n",
       "\n",
       "    .dataframe tbody tr th {\n",
       "        vertical-align: top;\n",
       "    }\n",
       "\n",
       "    .dataframe thead th {\n",
       "        text-align: right;\n",
       "    }\n",
       "</style>\n",
       "<table border=\"1\" class=\"dataframe\">\n",
       "  <thead>\n",
       "    <tr style=\"text-align: right;\">\n",
       "      <th></th>\n",
       "      <th>Price</th>\n",
       "      <th>Feature</th>\n",
       "      <th>Display</th>\n",
       "      <th>Price - Competitor 1</th>\n",
       "      <th>Price - Competitor 2</th>\n",
       "      <th>Price - Competitor 3</th>\n",
       "      <th>Price - Competitor 4</th>\n",
       "      <th>Price - Competitor 5</th>\n",
       "    </tr>\n",
       "  </thead>\n",
       "  <tbody>\n",
       "    <tr>\n",
       "      <th>4085</th>\n",
       "      <td>6.49</td>\n",
       "      <td>0</td>\n",
       "      <td>0</td>\n",
       "      <td>5.40</td>\n",
       "      <td>4.73</td>\n",
       "      <td>5.50</td>\n",
       "      <td>5.80</td>\n",
       "      <td>3.95</td>\n",
       "    </tr>\n",
       "    <tr>\n",
       "      <th>1732</th>\n",
       "      <td>5.59</td>\n",
       "      <td>0</td>\n",
       "      <td>0</td>\n",
       "      <td>3.55</td>\n",
       "      <td>3.28</td>\n",
       "      <td>4.68</td>\n",
       "      <td>4.17</td>\n",
       "      <td>2.10</td>\n",
       "    </tr>\n",
       "    <tr>\n",
       "      <th>2242</th>\n",
       "      <td>5.69</td>\n",
       "      <td>0</td>\n",
       "      <td>0</td>\n",
       "      <td>4.70</td>\n",
       "      <td>3.73</td>\n",
       "      <td>5.98</td>\n",
       "      <td>4.99</td>\n",
       "      <td>3.29</td>\n",
       "    </tr>\n",
       "    <tr>\n",
       "      <th>96</th>\n",
       "      <td>5.58</td>\n",
       "      <td>0</td>\n",
       "      <td>0</td>\n",
       "      <td>4.10</td>\n",
       "      <td>3.80</td>\n",
       "      <td>6.39</td>\n",
       "      <td>4.66</td>\n",
       "      <td>2.50</td>\n",
       "    </tr>\n",
       "    <tr>\n",
       "      <th>1657</th>\n",
       "      <td>6.29</td>\n",
       "      <td>0</td>\n",
       "      <td>0</td>\n",
       "      <td>3.57</td>\n",
       "      <td>3.55</td>\n",
       "      <td>5.00</td>\n",
       "      <td>3.44</td>\n",
       "      <td>3.15</td>\n",
       "    </tr>\n",
       "    <tr>\n",
       "      <th>...</th>\n",
       "      <td>...</td>\n",
       "      <td>...</td>\n",
       "      <td>...</td>\n",
       "      <td>...</td>\n",
       "      <td>...</td>\n",
       "      <td>...</td>\n",
       "      <td>...</td>\n",
       "      <td>...</td>\n",
       "    </tr>\n",
       "    <tr>\n",
       "      <th>1064</th>\n",
       "      <td>6.28</td>\n",
       "      <td>0</td>\n",
       "      <td>0</td>\n",
       "      <td>3.75</td>\n",
       "      <td>4.78</td>\n",
       "      <td>6.47</td>\n",
       "      <td>5.66</td>\n",
       "      <td>3.00</td>\n",
       "    </tr>\n",
       "    <tr>\n",
       "      <th>3599</th>\n",
       "      <td>6.34</td>\n",
       "      <td>0</td>\n",
       "      <td>0</td>\n",
       "      <td>5.09</td>\n",
       "      <td>4.58</td>\n",
       "      <td>6.39</td>\n",
       "      <td>5.79</td>\n",
       "      <td>2.90</td>\n",
       "    </tr>\n",
       "    <tr>\n",
       "      <th>1044</th>\n",
       "      <td>4.48</td>\n",
       "      <td>0</td>\n",
       "      <td>1</td>\n",
       "      <td>3.75</td>\n",
       "      <td>4.02</td>\n",
       "      <td>5.49</td>\n",
       "      <td>4.39</td>\n",
       "      <td>2.89</td>\n",
       "    </tr>\n",
       "    <tr>\n",
       "      <th>978</th>\n",
       "      <td>5.03</td>\n",
       "      <td>1</td>\n",
       "      <td>1</td>\n",
       "      <td>3.77</td>\n",
       "      <td>3.97</td>\n",
       "      <td>5.01</td>\n",
       "      <td>4.95</td>\n",
       "      <td>3.49</td>\n",
       "    </tr>\n",
       "    <tr>\n",
       "      <th>332</th>\n",
       "      <td>6.20</td>\n",
       "      <td>0</td>\n",
       "      <td>0</td>\n",
       "      <td>3.96</td>\n",
       "      <td>3.99</td>\n",
       "      <td>6.39</td>\n",
       "      <td>5.49</td>\n",
       "      <td>3.22</td>\n",
       "    </tr>\n",
       "  </tbody>\n",
       "</table>\n",
       "<p>839 rows × 8 columns</p>\n",
       "</div>"
      ],
      "text/plain": [
       "      Price  Feature  Display  Price - Competitor 1  Price - Competitor 2  \\\n",
       "4085   6.49        0        0                  5.40                  4.73   \n",
       "1732   5.59        0        0                  3.55                  3.28   \n",
       "2242   5.69        0        0                  4.70                  3.73   \n",
       "96     5.58        0        0                  4.10                  3.80   \n",
       "1657   6.29        0        0                  3.57                  3.55   \n",
       "...     ...      ...      ...                   ...                   ...   \n",
       "1064   6.28        0        0                  3.75                  4.78   \n",
       "3599   6.34        0        0                  5.09                  4.58   \n",
       "1044   4.48        0        1                  3.75                  4.02   \n",
       "978    5.03        1        1                  3.77                  3.97   \n",
       "332    6.20        0        0                  3.96                  3.99   \n",
       "\n",
       "      Price - Competitor 3  Price - Competitor 4  Price - Competitor 5  \n",
       "4085                  5.50                  5.80                  3.95  \n",
       "1732                  4.68                  4.17                  2.10  \n",
       "2242                  5.98                  4.99                  3.29  \n",
       "96                    6.39                  4.66                  2.50  \n",
       "1657                  5.00                  3.44                  3.15  \n",
       "...                    ...                   ...                   ...  \n",
       "1064                  6.47                  5.66                  3.00  \n",
       "3599                  6.39                  5.79                  2.90  \n",
       "1044                  5.49                  4.39                  2.89  \n",
       "978                   5.01                  4.95                  3.49  \n",
       "332                   6.39                  5.49                  3.22  \n",
       "\n",
       "[839 rows x 8 columns]"
      ]
     },
     "execution_count": 18,
     "metadata": {},
     "output_type": "execute_result"
    }
   ],
   "source": [
    "X_test"
   ]
  },
  {
   "cell_type": "code",
   "execution_count": 19,
   "id": "dcf7e1fe",
   "metadata": {},
   "outputs": [],
   "source": [
    "#printig regression results\n",
    "def regression_results(x,y):\n",
    "    x=sm.add_constant(x)\n",
    "    model=sm.OLS(y,x).fit()\n",
    "    print(model.summary())"
   ]
  },
  {
   "cell_type": "code",
   "execution_count": 20,
   "id": "eb7601e7",
   "metadata": {},
   "outputs": [
    {
     "name": "stdout",
     "output_type": "stream",
     "text": [
      "                            OLS Regression Results                            \n",
      "==============================================================================\n",
      "Dep. Variable:                  Sales   R-squared:                       0.277\n",
      "Model:                            OLS   Adj. R-squared:                  0.277\n",
      "Method:                 Least Squares   F-statistic:                     1284.\n",
      "Date:                Fri, 03 Jun 2022   Prob (F-statistic):          2.67e-238\n",
      "Time:                        23:22:24   Log-Likelihood:                -19160.\n",
      "No. Observations:                3352   AIC:                         3.832e+04\n",
      "Df Residuals:                    3350   BIC:                         3.834e+04\n",
      "Df Model:                           1                                         \n",
      "Covariance Type:            nonrobust                                         \n",
      "==============================================================================\n",
      "                 coef    std err          t      P>|t|      [0.025      0.975]\n",
      "------------------------------------------------------------------------------\n",
      "const        504.4967     11.965     42.163      0.000     481.037     527.957\n",
      "Price        -74.7783      2.087    -35.830      0.000     -78.870     -70.686\n",
      "==============================================================================\n",
      "Omnibus:                     2651.725   Durbin-Watson:                   2.009\n",
      "Prob(Omnibus):                  0.000   Jarque-Bera (JB):            97221.140\n",
      "Skew:                           3.463   Prob(JB):                         0.00\n",
      "Kurtosis:                      28.458   Cond. No.                         55.7\n",
      "==============================================================================\n",
      "\n",
      "Notes:\n",
      "[1] Standard Errors assume that the covariance matrix of the errors is correctly specified.\n"
     ]
    }
   ],
   "source": [
    "regression_results(X_1,y_1)"
   ]
  },
  {
   "cell_type": "code",
   "execution_count": 21,
   "id": "db40e3b4",
   "metadata": {},
   "outputs": [],
   "source": [
    "from sklearn.linear_model import LinearRegression\n",
    "from sklearn.metrics import r2_score"
   ]
  },
  {
   "cell_type": "code",
   "execution_count": 22,
   "id": "f04b799b",
   "metadata": {},
   "outputs": [
    {
     "data": {
      "text/html": [
       "<style>#sk-container-id-1 {color: black;background-color: white;}#sk-container-id-1 pre{padding: 0;}#sk-container-id-1 div.sk-toggleable {background-color: white;}#sk-container-id-1 label.sk-toggleable__label {cursor: pointer;display: block;width: 100%;margin-bottom: 0;padding: 0.3em;box-sizing: border-box;text-align: center;}#sk-container-id-1 label.sk-toggleable__label-arrow:before {content: \"▸\";float: left;margin-right: 0.25em;color: #696969;}#sk-container-id-1 label.sk-toggleable__label-arrow:hover:before {color: black;}#sk-container-id-1 div.sk-estimator:hover label.sk-toggleable__label-arrow:before {color: black;}#sk-container-id-1 div.sk-toggleable__content {max-height: 0;max-width: 0;overflow: hidden;text-align: left;background-color: #f0f8ff;}#sk-container-id-1 div.sk-toggleable__content pre {margin: 0.2em;color: black;border-radius: 0.25em;background-color: #f0f8ff;}#sk-container-id-1 input.sk-toggleable__control:checked~div.sk-toggleable__content {max-height: 200px;max-width: 100%;overflow: auto;}#sk-container-id-1 input.sk-toggleable__control:checked~label.sk-toggleable__label-arrow:before {content: \"▾\";}#sk-container-id-1 div.sk-estimator input.sk-toggleable__control:checked~label.sk-toggleable__label {background-color: #d4ebff;}#sk-container-id-1 div.sk-label input.sk-toggleable__control:checked~label.sk-toggleable__label {background-color: #d4ebff;}#sk-container-id-1 input.sk-hidden--visually {border: 0;clip: rect(1px 1px 1px 1px);clip: rect(1px, 1px, 1px, 1px);height: 1px;margin: -1px;overflow: hidden;padding: 0;position: absolute;width: 1px;}#sk-container-id-1 div.sk-estimator {font-family: monospace;background-color: #f0f8ff;border: 1px dotted black;border-radius: 0.25em;box-sizing: border-box;margin-bottom: 0.5em;}#sk-container-id-1 div.sk-estimator:hover {background-color: #d4ebff;}#sk-container-id-1 div.sk-parallel-item::after {content: \"\";width: 100%;border-bottom: 1px solid gray;flex-grow: 1;}#sk-container-id-1 div.sk-label:hover label.sk-toggleable__label {background-color: #d4ebff;}#sk-container-id-1 div.sk-serial::before {content: \"\";position: absolute;border-left: 1px solid gray;box-sizing: border-box;top: 0;bottom: 0;left: 50%;z-index: 0;}#sk-container-id-1 div.sk-serial {display: flex;flex-direction: column;align-items: center;background-color: white;padding-right: 0.2em;padding-left: 0.2em;position: relative;}#sk-container-id-1 div.sk-item {position: relative;z-index: 1;}#sk-container-id-1 div.sk-parallel {display: flex;align-items: stretch;justify-content: center;background-color: white;position: relative;}#sk-container-id-1 div.sk-item::before, #sk-container-id-1 div.sk-parallel-item::before {content: \"\";position: absolute;border-left: 1px solid gray;box-sizing: border-box;top: 0;bottom: 0;left: 50%;z-index: -1;}#sk-container-id-1 div.sk-parallel-item {display: flex;flex-direction: column;z-index: 1;position: relative;background-color: white;}#sk-container-id-1 div.sk-parallel-item:first-child::after {align-self: flex-end;width: 50%;}#sk-container-id-1 div.sk-parallel-item:last-child::after {align-self: flex-start;width: 50%;}#sk-container-id-1 div.sk-parallel-item:only-child::after {width: 0;}#sk-container-id-1 div.sk-dashed-wrapped {border: 1px dashed gray;margin: 0 0.4em 0.5em 0.4em;box-sizing: border-box;padding-bottom: 0.4em;background-color: white;}#sk-container-id-1 div.sk-label label {font-family: monospace;font-weight: bold;display: inline-block;line-height: 1.2em;}#sk-container-id-1 div.sk-label-container {text-align: center;}#sk-container-id-1 div.sk-container {/* jupyter's `normalize.less` sets `[hidden] { display: none; }` but bootstrap.min.css set `[hidden] { display: none !important; }` so we also need the `!important` here to be able to override the default hidden behavior on the sphinx rendered scikit-learn.org. See: https://github.com/scikit-learn/scikit-learn/issues/21755 */display: inline-block !important;position: relative;}#sk-container-id-1 div.sk-text-repr-fallback {display: none;}</style><div id=\"sk-container-id-1\" class=\"sk-top-container\"><div class=\"sk-text-repr-fallback\"><pre>LinearRegression()</pre><b>In a Jupyter environment, please rerun this cell to show the HTML representation or trust the notebook. <br />On GitHub, the HTML representation is unable to render, please try loading this page with nbviewer.org.</b></div><div class=\"sk-container\" hidden><div class=\"sk-item\"><div class=\"sk-estimator sk-toggleable\"><input class=\"sk-toggleable__control sk-hidden--visually\" id=\"sk-estimator-id-1\" type=\"checkbox\" checked><label for=\"sk-estimator-id-1\" class=\"sk-toggleable__label sk-toggleable__label-arrow\">LinearRegression</label><div class=\"sk-toggleable__content\"><pre>LinearRegression()</pre></div></div></div></div></div>"
      ],
      "text/plain": [
       "LinearRegression()"
      ]
     },
     "execution_count": 22,
     "metadata": {},
     "output_type": "execute_result"
    }
   ],
   "source": [
    "lr_1 = LinearRegression()\n",
    "lr_1.fit(np.array(X_1).reshape(-1,1),y_1)"
   ]
  },
  {
   "cell_type": "code",
   "execution_count": 23,
   "id": "7bc9353b",
   "metadata": {},
   "outputs": [
    {
     "data": {
      "text/plain": [
       "array([[5.89],\n",
       "       [6.29],\n",
       "       [5.79],\n",
       "       ...,\n",
       "       [5.89],\n",
       "       [5.5 ],\n",
       "       [6.19]])"
      ]
     },
     "execution_count": 23,
     "metadata": {},
     "output_type": "execute_result"
    }
   ],
   "source": [
    "np.array(X_1).reshape(-1,1)"
   ]
  },
  {
   "cell_type": "code",
   "execution_count": 24,
   "id": "2fc63c2e",
   "metadata": {},
   "outputs": [
    {
     "data": {
      "text/plain": [
       "0.3779062183339822"
      ]
     },
     "execution_count": 24,
     "metadata": {},
     "output_type": "execute_result"
    }
   ],
   "source": [
    "lr_1.score(np.array(X_test.iloc[:,0]).reshape(-1,1),y_test)"
   ]
  },
  {
   "cell_type": "markdown",
   "id": "bcc7a86f",
   "metadata": {},
   "source": [
    "# Adjusted R2 with only price"
   ]
  },
  {
   "cell_type": "code",
   "execution_count": 25,
   "id": "faf320fe",
   "metadata": {},
   "outputs": [
    {
     "data": {
      "text/plain": [
       "0.3771629760619798"
      ]
     },
     "execution_count": 25,
     "metadata": {},
     "output_type": "execute_result"
    }
   ],
   "source": [
    "#display adjusted R-squared\n",
    "1 - (1-lr_1.score(np.array(X_test.iloc[:,0]).reshape(-1,1), y_test))*(len(y_test)-1)/(len(y_test)-np.array(X_test.iloc[:,0]).reshape(-1,1).shape[1]-1)"
   ]
  },
  {
   "cell_type": "code",
   "execution_count": 26,
   "id": "3c10d4f4",
   "metadata": {},
   "outputs": [],
   "source": [
    "from sklearn.metrics import mean_absolute_error\n",
    "from sklearn.metrics import mean_squared_error"
   ]
  },
  {
   "cell_type": "code",
   "execution_count": 27,
   "id": "915f69da",
   "metadata": {
    "scrolled": false
   },
   "outputs": [],
   "source": [
    "y_pred = lr_1.predict(np.array(X_test.iloc[:,0]).reshape(-1,1))\n",
    "#y_pred"
   ]
  },
  {
   "cell_type": "markdown",
   "id": "7b0dcec4",
   "metadata": {},
   "source": [
    "# MAE , RMSE with only price "
   ]
  },
  {
   "cell_type": "code",
   "execution_count": 28,
   "id": "40c38eef",
   "metadata": {},
   "outputs": [
    {
     "data": {
      "text/plain": [
       "41.246110233817234"
      ]
     },
     "execution_count": 28,
     "metadata": {},
     "output_type": "execute_result"
    }
   ],
   "source": [
    "mae=mean_absolute_error(y_test,y_pred)\n",
    "mae"
   ]
  },
  {
   "cell_type": "code",
   "execution_count": 29,
   "id": "ba077b32",
   "metadata": {},
   "outputs": [
    {
     "data": {
      "text/plain": [
       "73.49279350165526"
      ]
     },
     "execution_count": 29,
     "metadata": {},
     "output_type": "execute_result"
    }
   ],
   "source": [
    "rmse=mean_squared_error(y_test, y_pred, squared=False) #squared=False --> RMSE\n",
    "rmse"
   ]
  },
  {
   "cell_type": "markdown",
   "id": "b826b622",
   "metadata": {},
   "source": [
    "# Taking only price,feature and display as independent Features"
   ]
  },
  {
   "cell_type": "code",
   "execution_count": 30,
   "id": "4620de1a",
   "metadata": {},
   "outputs": [],
   "source": [
    "X_3=X_train.iloc[:,0:3]\n",
    "y_3=y_train"
   ]
  },
  {
   "cell_type": "code",
   "execution_count": 31,
   "id": "6556e43b",
   "metadata": {},
   "outputs": [
    {
     "name": "stdout",
     "output_type": "stream",
     "text": [
      "                            OLS Regression Results                            \n",
      "==============================================================================\n",
      "Dep. Variable:                  Sales   R-squared:                       0.527\n",
      "Model:                            OLS   Adj. R-squared:                  0.526\n",
      "Method:                 Least Squares   F-statistic:                     1242.\n",
      "Date:                Fri, 03 Jun 2022   Prob (F-statistic):               0.00\n",
      "Time:                        23:22:24   Log-Likelihood:                -18450.\n",
      "No. Observations:                3352   AIC:                         3.691e+04\n",
      "Df Residuals:                    3348   BIC:                         3.693e+04\n",
      "Df Model:                           3                                         \n",
      "Covariance Type:            nonrobust                                         \n",
      "==============================================================================\n",
      "                 coef    std err          t      P>|t|      [0.025      0.975]\n",
      "------------------------------------------------------------------------------\n",
      "const        284.5534     11.127     25.572      0.000     262.736     306.371\n",
      "Price        -40.5798      1.892    -21.453      0.000     -44.288     -36.871\n",
      "Feature       59.4649      2.920     20.363      0.000      53.739      65.191\n",
      "Display      101.0919      3.339     30.273      0.000      94.545     107.639\n",
      "==============================================================================\n",
      "Omnibus:                     2846.788   Durbin-Watson:                   2.008\n",
      "Prob(Omnibus):                  0.000   Jarque-Bera (JB):           153757.289\n",
      "Skew:                           3.722   Prob(JB):                         0.00\n",
      "Kurtosis:                      35.334   Cond. No.                         64.4\n",
      "==============================================================================\n",
      "\n",
      "Notes:\n",
      "[1] Standard Errors assume that the covariance matrix of the errors is correctly specified.\n"
     ]
    }
   ],
   "source": [
    "regression_results(X_3,y_3)"
   ]
  },
  {
   "cell_type": "code",
   "execution_count": 32,
   "id": "93ee3642",
   "metadata": {},
   "outputs": [
    {
     "data": {
      "text/html": [
       "<style>#sk-container-id-2 {color: black;background-color: white;}#sk-container-id-2 pre{padding: 0;}#sk-container-id-2 div.sk-toggleable {background-color: white;}#sk-container-id-2 label.sk-toggleable__label {cursor: pointer;display: block;width: 100%;margin-bottom: 0;padding: 0.3em;box-sizing: border-box;text-align: center;}#sk-container-id-2 label.sk-toggleable__label-arrow:before {content: \"▸\";float: left;margin-right: 0.25em;color: #696969;}#sk-container-id-2 label.sk-toggleable__label-arrow:hover:before {color: black;}#sk-container-id-2 div.sk-estimator:hover label.sk-toggleable__label-arrow:before {color: black;}#sk-container-id-2 div.sk-toggleable__content {max-height: 0;max-width: 0;overflow: hidden;text-align: left;background-color: #f0f8ff;}#sk-container-id-2 div.sk-toggleable__content pre {margin: 0.2em;color: black;border-radius: 0.25em;background-color: #f0f8ff;}#sk-container-id-2 input.sk-toggleable__control:checked~div.sk-toggleable__content {max-height: 200px;max-width: 100%;overflow: auto;}#sk-container-id-2 input.sk-toggleable__control:checked~label.sk-toggleable__label-arrow:before {content: \"▾\";}#sk-container-id-2 div.sk-estimator input.sk-toggleable__control:checked~label.sk-toggleable__label {background-color: #d4ebff;}#sk-container-id-2 div.sk-label input.sk-toggleable__control:checked~label.sk-toggleable__label {background-color: #d4ebff;}#sk-container-id-2 input.sk-hidden--visually {border: 0;clip: rect(1px 1px 1px 1px);clip: rect(1px, 1px, 1px, 1px);height: 1px;margin: -1px;overflow: hidden;padding: 0;position: absolute;width: 1px;}#sk-container-id-2 div.sk-estimator {font-family: monospace;background-color: #f0f8ff;border: 1px dotted black;border-radius: 0.25em;box-sizing: border-box;margin-bottom: 0.5em;}#sk-container-id-2 div.sk-estimator:hover {background-color: #d4ebff;}#sk-container-id-2 div.sk-parallel-item::after {content: \"\";width: 100%;border-bottom: 1px solid gray;flex-grow: 1;}#sk-container-id-2 div.sk-label:hover label.sk-toggleable__label {background-color: #d4ebff;}#sk-container-id-2 div.sk-serial::before {content: \"\";position: absolute;border-left: 1px solid gray;box-sizing: border-box;top: 0;bottom: 0;left: 50%;z-index: 0;}#sk-container-id-2 div.sk-serial {display: flex;flex-direction: column;align-items: center;background-color: white;padding-right: 0.2em;padding-left: 0.2em;position: relative;}#sk-container-id-2 div.sk-item {position: relative;z-index: 1;}#sk-container-id-2 div.sk-parallel {display: flex;align-items: stretch;justify-content: center;background-color: white;position: relative;}#sk-container-id-2 div.sk-item::before, #sk-container-id-2 div.sk-parallel-item::before {content: \"\";position: absolute;border-left: 1px solid gray;box-sizing: border-box;top: 0;bottom: 0;left: 50%;z-index: -1;}#sk-container-id-2 div.sk-parallel-item {display: flex;flex-direction: column;z-index: 1;position: relative;background-color: white;}#sk-container-id-2 div.sk-parallel-item:first-child::after {align-self: flex-end;width: 50%;}#sk-container-id-2 div.sk-parallel-item:last-child::after {align-self: flex-start;width: 50%;}#sk-container-id-2 div.sk-parallel-item:only-child::after {width: 0;}#sk-container-id-2 div.sk-dashed-wrapped {border: 1px dashed gray;margin: 0 0.4em 0.5em 0.4em;box-sizing: border-box;padding-bottom: 0.4em;background-color: white;}#sk-container-id-2 div.sk-label label {font-family: monospace;font-weight: bold;display: inline-block;line-height: 1.2em;}#sk-container-id-2 div.sk-label-container {text-align: center;}#sk-container-id-2 div.sk-container {/* jupyter's `normalize.less` sets `[hidden] { display: none; }` but bootstrap.min.css set `[hidden] { display: none !important; }` so we also need the `!important` here to be able to override the default hidden behavior on the sphinx rendered scikit-learn.org. See: https://github.com/scikit-learn/scikit-learn/issues/21755 */display: inline-block !important;position: relative;}#sk-container-id-2 div.sk-text-repr-fallback {display: none;}</style><div id=\"sk-container-id-2\" class=\"sk-top-container\"><div class=\"sk-text-repr-fallback\"><pre>LinearRegression()</pre><b>In a Jupyter environment, please rerun this cell to show the HTML representation or trust the notebook. <br />On GitHub, the HTML representation is unable to render, please try loading this page with nbviewer.org.</b></div><div class=\"sk-container\" hidden><div class=\"sk-item\"><div class=\"sk-estimator sk-toggleable\"><input class=\"sk-toggleable__control sk-hidden--visually\" id=\"sk-estimator-id-2\" type=\"checkbox\" checked><label for=\"sk-estimator-id-2\" class=\"sk-toggleable__label sk-toggleable__label-arrow\">LinearRegression</label><div class=\"sk-toggleable__content\"><pre>LinearRegression()</pre></div></div></div></div></div>"
      ],
      "text/plain": [
       "LinearRegression()"
      ]
     },
     "execution_count": 32,
     "metadata": {},
     "output_type": "execute_result"
    }
   ],
   "source": [
    "lr_3 = LinearRegression()\n",
    "lr_3.fit(X_3,y_3)"
   ]
  },
  {
   "cell_type": "code",
   "execution_count": 33,
   "id": "dffb0c2a",
   "metadata": {},
   "outputs": [
    {
     "data": {
      "text/plain": [
       "0.5751354406129097"
      ]
     },
     "execution_count": 33,
     "metadata": {},
     "output_type": "execute_result"
    }
   ],
   "source": [
    "lr_3.score(X_test.iloc[:,0:3],y_test)"
   ]
  },
  {
   "cell_type": "markdown",
   "id": "1a3d0ae9",
   "metadata": {},
   "source": [
    "# Adjusted R2 with only price, feature and display "
   ]
  },
  {
   "cell_type": "code",
   "execution_count": 34,
   "id": "81b053c7",
   "metadata": {},
   "outputs": [
    {
     "data": {
      "text/plain": [
       "0.5736089811181058"
      ]
     },
     "execution_count": 34,
     "metadata": {},
     "output_type": "execute_result"
    }
   ],
   "source": [
    "1 - (1-lr_3.score(X_test.iloc[:,0:3], y_test))*(len(y_test)-1)/(len(y_test)-X_test.iloc[:,0:3].shape[1]-1)"
   ]
  },
  {
   "cell_type": "code",
   "execution_count": 35,
   "id": "71c6ec54",
   "metadata": {
    "scrolled": false
   },
   "outputs": [],
   "source": [
    "y_pred_2 = lr_3.predict(X_test.iloc[:,0:3])\n",
    "#y_pred_2"
   ]
  },
  {
   "cell_type": "markdown",
   "id": "b1a1bd21",
   "metadata": {},
   "source": [
    "# MAE, RMSE"
   ]
  },
  {
   "cell_type": "code",
   "execution_count": 36,
   "id": "e236ded3",
   "metadata": {},
   "outputs": [
    {
     "data": {
      "text/plain": [
       "33.874687693946875"
      ]
     },
     "execution_count": 36,
     "metadata": {},
     "output_type": "execute_result"
    }
   ],
   "source": [
    "mae=mean_absolute_error(y_test,y_pred_2)\n",
    "mae"
   ]
  },
  {
   "cell_type": "code",
   "execution_count": 37,
   "id": "e8c23770",
   "metadata": {},
   "outputs": [
    {
     "data": {
      "text/plain": [
       "60.735425447384465"
      ]
     },
     "execution_count": 37,
     "metadata": {},
     "output_type": "execute_result"
    }
   ],
   "source": [
    "rmse=mean_squared_error(y_test, y_pred_2, squared=False) #squared=False --> RMSE\n",
    "rmse"
   ]
  },
  {
   "cell_type": "markdown",
   "id": "04c65b76",
   "metadata": {},
   "source": [
    "# Taking all independent features"
   ]
  },
  {
   "cell_type": "code",
   "execution_count": 38,
   "id": "e95faf03",
   "metadata": {},
   "outputs": [],
   "source": [
    "X_all=X_train.iloc[:,0:8]\n",
    "y_all=y_train"
   ]
  },
  {
   "cell_type": "code",
   "execution_count": 39,
   "id": "1c3fe8d3",
   "metadata": {},
   "outputs": [
    {
     "name": "stdout",
     "output_type": "stream",
     "text": [
      "                            OLS Regression Results                            \n",
      "==============================================================================\n",
      "Dep. Variable:                  Sales   R-squared:                       0.534\n",
      "Model:                            OLS   Adj. R-squared:                  0.533\n",
      "Method:                 Least Squares   F-statistic:                     479.3\n",
      "Date:                Fri, 03 Jun 2022   Prob (F-statistic):               0.00\n",
      "Time:                        23:22:25   Log-Likelihood:                -18423.\n",
      "No. Observations:                3352   AIC:                         3.686e+04\n",
      "Df Residuals:                    3343   BIC:                         3.692e+04\n",
      "Df Model:                           8                                         \n",
      "Covariance Type:            nonrobust                                         \n",
      "========================================================================================\n",
      "                           coef    std err          t      P>|t|      [0.025      0.975]\n",
      "----------------------------------------------------------------------------------------\n",
      "const                  247.6388     12.526     19.771      0.000     223.080     272.197\n",
      "Price                  -45.8797      2.246    -20.425      0.000     -50.284     -41.476\n",
      "Feature                 56.6910      3.060     18.525      0.000      50.691      62.691\n",
      "Display                 95.8840      3.410     28.115      0.000      89.197     102.571\n",
      "Price - Competitor 1     7.4203      1.483      5.003      0.000       4.512      10.328\n",
      "Price - Competitor 2     2.9593      2.408      1.229      0.219      -1.762       7.680\n",
      "Price - Competitor 3     3.1718      1.759      1.803      0.071      -0.277       6.621\n",
      "Price - Competitor 4     4.4629      1.631      2.736      0.006       1.265       7.661\n",
      "Price - Competitor 5    -3.7230      1.728     -2.154      0.031      -7.112      -0.334\n",
      "==============================================================================\n",
      "Omnibus:                     2821.086   Durbin-Watson:                   2.012\n",
      "Prob(Omnibus):                  0.000   Jarque-Bera (JB):           149272.945\n",
      "Skew:                           3.674   Prob(JB):                         0.00\n",
      "Kurtosis:                      34.856   Cond. No.                         139.\n",
      "==============================================================================\n",
      "\n",
      "Notes:\n",
      "[1] Standard Errors assume that the covariance matrix of the errors is correctly specified.\n"
     ]
    }
   ],
   "source": [
    "regression_results(X_all,y_all)"
   ]
  },
  {
   "cell_type": "code",
   "execution_count": 40,
   "id": "2ae2b07a",
   "metadata": {},
   "outputs": [
    {
     "data": {
      "text/html": [
       "<style>#sk-container-id-3 {color: black;background-color: white;}#sk-container-id-3 pre{padding: 0;}#sk-container-id-3 div.sk-toggleable {background-color: white;}#sk-container-id-3 label.sk-toggleable__label {cursor: pointer;display: block;width: 100%;margin-bottom: 0;padding: 0.3em;box-sizing: border-box;text-align: center;}#sk-container-id-3 label.sk-toggleable__label-arrow:before {content: \"▸\";float: left;margin-right: 0.25em;color: #696969;}#sk-container-id-3 label.sk-toggleable__label-arrow:hover:before {color: black;}#sk-container-id-3 div.sk-estimator:hover label.sk-toggleable__label-arrow:before {color: black;}#sk-container-id-3 div.sk-toggleable__content {max-height: 0;max-width: 0;overflow: hidden;text-align: left;background-color: #f0f8ff;}#sk-container-id-3 div.sk-toggleable__content pre {margin: 0.2em;color: black;border-radius: 0.25em;background-color: #f0f8ff;}#sk-container-id-3 input.sk-toggleable__control:checked~div.sk-toggleable__content {max-height: 200px;max-width: 100%;overflow: auto;}#sk-container-id-3 input.sk-toggleable__control:checked~label.sk-toggleable__label-arrow:before {content: \"▾\";}#sk-container-id-3 div.sk-estimator input.sk-toggleable__control:checked~label.sk-toggleable__label {background-color: #d4ebff;}#sk-container-id-3 div.sk-label input.sk-toggleable__control:checked~label.sk-toggleable__label {background-color: #d4ebff;}#sk-container-id-3 input.sk-hidden--visually {border: 0;clip: rect(1px 1px 1px 1px);clip: rect(1px, 1px, 1px, 1px);height: 1px;margin: -1px;overflow: hidden;padding: 0;position: absolute;width: 1px;}#sk-container-id-3 div.sk-estimator {font-family: monospace;background-color: #f0f8ff;border: 1px dotted black;border-radius: 0.25em;box-sizing: border-box;margin-bottom: 0.5em;}#sk-container-id-3 div.sk-estimator:hover {background-color: #d4ebff;}#sk-container-id-3 div.sk-parallel-item::after {content: \"\";width: 100%;border-bottom: 1px solid gray;flex-grow: 1;}#sk-container-id-3 div.sk-label:hover label.sk-toggleable__label {background-color: #d4ebff;}#sk-container-id-3 div.sk-serial::before {content: \"\";position: absolute;border-left: 1px solid gray;box-sizing: border-box;top: 0;bottom: 0;left: 50%;z-index: 0;}#sk-container-id-3 div.sk-serial {display: flex;flex-direction: column;align-items: center;background-color: white;padding-right: 0.2em;padding-left: 0.2em;position: relative;}#sk-container-id-3 div.sk-item {position: relative;z-index: 1;}#sk-container-id-3 div.sk-parallel {display: flex;align-items: stretch;justify-content: center;background-color: white;position: relative;}#sk-container-id-3 div.sk-item::before, #sk-container-id-3 div.sk-parallel-item::before {content: \"\";position: absolute;border-left: 1px solid gray;box-sizing: border-box;top: 0;bottom: 0;left: 50%;z-index: -1;}#sk-container-id-3 div.sk-parallel-item {display: flex;flex-direction: column;z-index: 1;position: relative;background-color: white;}#sk-container-id-3 div.sk-parallel-item:first-child::after {align-self: flex-end;width: 50%;}#sk-container-id-3 div.sk-parallel-item:last-child::after {align-self: flex-start;width: 50%;}#sk-container-id-3 div.sk-parallel-item:only-child::after {width: 0;}#sk-container-id-3 div.sk-dashed-wrapped {border: 1px dashed gray;margin: 0 0.4em 0.5em 0.4em;box-sizing: border-box;padding-bottom: 0.4em;background-color: white;}#sk-container-id-3 div.sk-label label {font-family: monospace;font-weight: bold;display: inline-block;line-height: 1.2em;}#sk-container-id-3 div.sk-label-container {text-align: center;}#sk-container-id-3 div.sk-container {/* jupyter's `normalize.less` sets `[hidden] { display: none; }` but bootstrap.min.css set `[hidden] { display: none !important; }` so we also need the `!important` here to be able to override the default hidden behavior on the sphinx rendered scikit-learn.org. See: https://github.com/scikit-learn/scikit-learn/issues/21755 */display: inline-block !important;position: relative;}#sk-container-id-3 div.sk-text-repr-fallback {display: none;}</style><div id=\"sk-container-id-3\" class=\"sk-top-container\"><div class=\"sk-text-repr-fallback\"><pre>LinearRegression()</pre><b>In a Jupyter environment, please rerun this cell to show the HTML representation or trust the notebook. <br />On GitHub, the HTML representation is unable to render, please try loading this page with nbviewer.org.</b></div><div class=\"sk-container\" hidden><div class=\"sk-item\"><div class=\"sk-estimator sk-toggleable\"><input class=\"sk-toggleable__control sk-hidden--visually\" id=\"sk-estimator-id-3\" type=\"checkbox\" checked><label for=\"sk-estimator-id-3\" class=\"sk-toggleable__label sk-toggleable__label-arrow\">LinearRegression</label><div class=\"sk-toggleable__content\"><pre>LinearRegression()</pre></div></div></div></div></div>"
      ],
      "text/plain": [
       "LinearRegression()"
      ]
     },
     "execution_count": 40,
     "metadata": {},
     "output_type": "execute_result"
    }
   ],
   "source": [
    "lr_all = LinearRegression()\n",
    "lr_all.fit(X_all,y_all)"
   ]
  },
  {
   "cell_type": "code",
   "execution_count": 41,
   "id": "cef53b40",
   "metadata": {},
   "outputs": [
    {
     "data": {
      "text/plain": [
       "0.5841831046230955"
      ]
     },
     "execution_count": 41,
     "metadata": {},
     "output_type": "execute_result"
    }
   ],
   "source": [
    "lr_all.score(X_test,y_test)"
   ]
  },
  {
   "cell_type": "markdown",
   "id": "7db1a9f7",
   "metadata": {},
   "source": [
    "# Adj R2"
   ]
  },
  {
   "cell_type": "code",
   "execution_count": 42,
   "id": "f60a325c",
   "metadata": {},
   "outputs": [
    {
     "data": {
      "text/plain": [
       "0.5801752309327157"
      ]
     },
     "execution_count": 42,
     "metadata": {},
     "output_type": "execute_result"
    }
   ],
   "source": [
    "1 - (1-lr_all.score(X_test, y_test))*(len(y_test)-1)/(len(y_test)-X_test.shape[1]-1)"
   ]
  },
  {
   "cell_type": "code",
   "execution_count": 43,
   "id": "f0e15069",
   "metadata": {
    "scrolled": false
   },
   "outputs": [],
   "source": [
    "y_pred_3 = lr_all.predict(X_test)\n",
    "#y_pred_3"
   ]
  },
  {
   "cell_type": "markdown",
   "id": "6ce1beba",
   "metadata": {},
   "source": [
    "# MAE, RMSE"
   ]
  },
  {
   "cell_type": "code",
   "execution_count": 44,
   "id": "b6039839",
   "metadata": {},
   "outputs": [
    {
     "data": {
      "text/plain": [
       "33.81268898286594"
      ]
     },
     "execution_count": 44,
     "metadata": {},
     "output_type": "execute_result"
    }
   ],
   "source": [
    "mae=mean_absolute_error(y_test,y_pred_3)\n",
    "mae"
   ]
  },
  {
   "cell_type": "code",
   "execution_count": 45,
   "id": "062d31a6",
   "metadata": {},
   "outputs": [
    {
     "data": {
      "text/plain": [
       "60.08525257287543"
      ]
     },
     "execution_count": 45,
     "metadata": {},
     "output_type": "execute_result"
    }
   ],
   "source": [
    "rmse=mean_squared_error(y_test, y_pred_3, squared=False) #squared=False --> RMSE\n",
    "rmse"
   ]
  },
  {
   "cell_type": "markdown",
   "id": "d89bfcad",
   "metadata": {},
   "source": [
    "# Removing Price - Competitor 2 and Price - Competitor 3 having p value greater than 0.05"
   ]
  },
  {
   "cell_type": "code",
   "execution_count": 46,
   "id": "900872b8",
   "metadata": {},
   "outputs": [],
   "source": [
    "X_selective=X_train.drop([\"Price - Competitor 2\",\"Price - Competitor 3\"],axis=1)\n",
    "y_selective=y_train"
   ]
  },
  {
   "cell_type": "code",
   "execution_count": 47,
   "id": "8f67d0ff",
   "metadata": {},
   "outputs": [
    {
     "name": "stdout",
     "output_type": "stream",
     "text": [
      "                            OLS Regression Results                            \n",
      "==============================================================================\n",
      "Dep. Variable:                  Sales   R-squared:                       0.533\n",
      "Model:                            OLS   Adj. R-squared:                  0.533\n",
      "Method:                 Least Squares   F-statistic:                     637.2\n",
      "Date:                Fri, 03 Jun 2022   Prob (F-statistic):               0.00\n",
      "Time:                        23:22:25   Log-Likelihood:                -18427.\n",
      "No. Observations:                3352   AIC:                         3.687e+04\n",
      "Df Residuals:                    3345   BIC:                         3.691e+04\n",
      "Df Model:                           6                                         \n",
      "Covariance Type:            nonrobust                                         \n",
      "========================================================================================\n",
      "                           coef    std err          t      P>|t|      [0.025      0.975]\n",
      "----------------------------------------------------------------------------------------\n",
      "const                  255.9054     12.105     21.140      0.000     232.171     279.640\n",
      "Price                  -43.7836      2.090    -20.949      0.000     -47.881     -39.686\n",
      "Feature                 58.0480      3.012     19.275      0.000      52.143      63.953\n",
      "Display                 97.0066      3.380     28.704      0.000      90.380     103.633\n",
      "Price - Competitor 1     7.9298      1.454      5.454      0.000       5.079      10.780\n",
      "Price - Competitor 4     5.5067      1.563      3.522      0.000       2.442       8.572\n",
      "Price - Competitor 5    -3.1734      1.715     -1.850      0.064      -6.537       0.190\n",
      "==============================================================================\n",
      "Omnibus:                     2827.861   Durbin-Watson:                   2.012\n",
      "Prob(Omnibus):                  0.000   Jarque-Bera (JB):           151252.927\n",
      "Skew:                           3.685   Prob(JB):                         0.00\n",
      "Kurtosis:                      35.073   Cond. No.                         108.\n",
      "==============================================================================\n",
      "\n",
      "Notes:\n",
      "[1] Standard Errors assume that the covariance matrix of the errors is correctly specified.\n"
     ]
    }
   ],
   "source": [
    "regression_results(X_selective,y_selective)"
   ]
  },
  {
   "cell_type": "code",
   "execution_count": 48,
   "id": "b7b3bf58",
   "metadata": {},
   "outputs": [
    {
     "data": {
      "text/html": [
       "<style>#sk-container-id-4 {color: black;background-color: white;}#sk-container-id-4 pre{padding: 0;}#sk-container-id-4 div.sk-toggleable {background-color: white;}#sk-container-id-4 label.sk-toggleable__label {cursor: pointer;display: block;width: 100%;margin-bottom: 0;padding: 0.3em;box-sizing: border-box;text-align: center;}#sk-container-id-4 label.sk-toggleable__label-arrow:before {content: \"▸\";float: left;margin-right: 0.25em;color: #696969;}#sk-container-id-4 label.sk-toggleable__label-arrow:hover:before {color: black;}#sk-container-id-4 div.sk-estimator:hover label.sk-toggleable__label-arrow:before {color: black;}#sk-container-id-4 div.sk-toggleable__content {max-height: 0;max-width: 0;overflow: hidden;text-align: left;background-color: #f0f8ff;}#sk-container-id-4 div.sk-toggleable__content pre {margin: 0.2em;color: black;border-radius: 0.25em;background-color: #f0f8ff;}#sk-container-id-4 input.sk-toggleable__control:checked~div.sk-toggleable__content {max-height: 200px;max-width: 100%;overflow: auto;}#sk-container-id-4 input.sk-toggleable__control:checked~label.sk-toggleable__label-arrow:before {content: \"▾\";}#sk-container-id-4 div.sk-estimator input.sk-toggleable__control:checked~label.sk-toggleable__label {background-color: #d4ebff;}#sk-container-id-4 div.sk-label input.sk-toggleable__control:checked~label.sk-toggleable__label {background-color: #d4ebff;}#sk-container-id-4 input.sk-hidden--visually {border: 0;clip: rect(1px 1px 1px 1px);clip: rect(1px, 1px, 1px, 1px);height: 1px;margin: -1px;overflow: hidden;padding: 0;position: absolute;width: 1px;}#sk-container-id-4 div.sk-estimator {font-family: monospace;background-color: #f0f8ff;border: 1px dotted black;border-radius: 0.25em;box-sizing: border-box;margin-bottom: 0.5em;}#sk-container-id-4 div.sk-estimator:hover {background-color: #d4ebff;}#sk-container-id-4 div.sk-parallel-item::after {content: \"\";width: 100%;border-bottom: 1px solid gray;flex-grow: 1;}#sk-container-id-4 div.sk-label:hover label.sk-toggleable__label {background-color: #d4ebff;}#sk-container-id-4 div.sk-serial::before {content: \"\";position: absolute;border-left: 1px solid gray;box-sizing: border-box;top: 0;bottom: 0;left: 50%;z-index: 0;}#sk-container-id-4 div.sk-serial {display: flex;flex-direction: column;align-items: center;background-color: white;padding-right: 0.2em;padding-left: 0.2em;position: relative;}#sk-container-id-4 div.sk-item {position: relative;z-index: 1;}#sk-container-id-4 div.sk-parallel {display: flex;align-items: stretch;justify-content: center;background-color: white;position: relative;}#sk-container-id-4 div.sk-item::before, #sk-container-id-4 div.sk-parallel-item::before {content: \"\";position: absolute;border-left: 1px solid gray;box-sizing: border-box;top: 0;bottom: 0;left: 50%;z-index: -1;}#sk-container-id-4 div.sk-parallel-item {display: flex;flex-direction: column;z-index: 1;position: relative;background-color: white;}#sk-container-id-4 div.sk-parallel-item:first-child::after {align-self: flex-end;width: 50%;}#sk-container-id-4 div.sk-parallel-item:last-child::after {align-self: flex-start;width: 50%;}#sk-container-id-4 div.sk-parallel-item:only-child::after {width: 0;}#sk-container-id-4 div.sk-dashed-wrapped {border: 1px dashed gray;margin: 0 0.4em 0.5em 0.4em;box-sizing: border-box;padding-bottom: 0.4em;background-color: white;}#sk-container-id-4 div.sk-label label {font-family: monospace;font-weight: bold;display: inline-block;line-height: 1.2em;}#sk-container-id-4 div.sk-label-container {text-align: center;}#sk-container-id-4 div.sk-container {/* jupyter's `normalize.less` sets `[hidden] { display: none; }` but bootstrap.min.css set `[hidden] { display: none !important; }` so we also need the `!important` here to be able to override the default hidden behavior on the sphinx rendered scikit-learn.org. See: https://github.com/scikit-learn/scikit-learn/issues/21755 */display: inline-block !important;position: relative;}#sk-container-id-4 div.sk-text-repr-fallback {display: none;}</style><div id=\"sk-container-id-4\" class=\"sk-top-container\"><div class=\"sk-text-repr-fallback\"><pre>LinearRegression()</pre><b>In a Jupyter environment, please rerun this cell to show the HTML representation or trust the notebook. <br />On GitHub, the HTML representation is unable to render, please try loading this page with nbviewer.org.</b></div><div class=\"sk-container\" hidden><div class=\"sk-item\"><div class=\"sk-estimator sk-toggleable\"><input class=\"sk-toggleable__control sk-hidden--visually\" id=\"sk-estimator-id-4\" type=\"checkbox\" checked><label for=\"sk-estimator-id-4\" class=\"sk-toggleable__label sk-toggleable__label-arrow\">LinearRegression</label><div class=\"sk-toggleable__content\"><pre>LinearRegression()</pre></div></div></div></div></div>"
      ],
      "text/plain": [
       "LinearRegression()"
      ]
     },
     "execution_count": 48,
     "metadata": {},
     "output_type": "execute_result"
    }
   ],
   "source": [
    "lr_selective = LinearRegression()\n",
    "lr_selective.fit(X_selective,y_selective)"
   ]
  },
  {
   "cell_type": "code",
   "execution_count": 49,
   "id": "43538169",
   "metadata": {},
   "outputs": [],
   "source": [
    "X__test_selective=X_test.drop([\"Price - Competitor 2\",\"Price - Competitor 3\"],axis=1)"
   ]
  },
  {
   "cell_type": "code",
   "execution_count": 50,
   "id": "0cdaa248",
   "metadata": {},
   "outputs": [
    {
     "data": {
      "text/plain": [
       "0.5831673864856822"
      ]
     },
     "execution_count": 50,
     "metadata": {},
     "output_type": "execute_result"
    }
   ],
   "source": [
    "lr_selective.score(X__test_selective,y_test)"
   ]
  },
  {
   "cell_type": "markdown",
   "id": "55806b8f",
   "metadata": {},
   "source": [
    "# Adj R2"
   ]
  },
  {
   "cell_type": "code",
   "execution_count": 51,
   "id": "2c2c101b",
   "metadata": {},
   "outputs": [
    {
     "data": {
      "text/plain": [
       "0.5801613820613001"
      ]
     },
     "execution_count": 51,
     "metadata": {},
     "output_type": "execute_result"
    }
   ],
   "source": [
    "1 - (1-lr_selective.score(X__test_selective, y_test))*(len(y_test)-1)/(len(y_test)-X__test_selective.shape[1]-1)"
   ]
  },
  {
   "cell_type": "code",
   "execution_count": 52,
   "id": "0e633a33",
   "metadata": {
    "scrolled": false
   },
   "outputs": [],
   "source": [
    "y_pred_4 = lr_selective.predict(X__test_selective)\n",
    "#y_pred_4"
   ]
  },
  {
   "cell_type": "markdown",
   "id": "4f6232fd",
   "metadata": {},
   "source": [
    "# MAE,RMSE"
   ]
  },
  {
   "cell_type": "code",
   "execution_count": 53,
   "id": "e48deebd",
   "metadata": {},
   "outputs": [
    {
     "data": {
      "text/plain": [
       "33.894478671833845"
      ]
     },
     "execution_count": 53,
     "metadata": {},
     "output_type": "execute_result"
    }
   ],
   "source": [
    "mae=mean_absolute_error(y_test,y_pred_4)\n",
    "mae"
   ]
  },
  {
   "cell_type": "code",
   "execution_count": 54,
   "id": "f444bafb",
   "metadata": {},
   "outputs": [
    {
     "data": {
      "text/plain": [
       "60.158593095562"
      ]
     },
     "execution_count": 54,
     "metadata": {},
     "output_type": "execute_result"
    }
   ],
   "source": [
    "rmse=mean_squared_error(y_test, y_pred_4, squared=False) #squared=False --> RMSE\n",
    "rmse"
   ]
  },
  {
   "cell_type": "markdown",
   "id": "ebbd5dbe",
   "metadata": {},
   "source": [
    "# creating new feature price*display"
   ]
  },
  {
   "cell_type": "code",
   "execution_count": 55,
   "id": "831c9571",
   "metadata": {},
   "outputs": [
    {
     "data": {
      "text/html": [
       "<div>\n",
       "<style scoped>\n",
       "    .dataframe tbody tr th:only-of-type {\n",
       "        vertical-align: middle;\n",
       "    }\n",
       "\n",
       "    .dataframe tbody tr th {\n",
       "        vertical-align: top;\n",
       "    }\n",
       "\n",
       "    .dataframe thead th {\n",
       "        text-align: right;\n",
       "    }\n",
       "</style>\n",
       "<table border=\"1\" class=\"dataframe\">\n",
       "  <thead>\n",
       "    <tr style=\"text-align: right;\">\n",
       "      <th></th>\n",
       "      <th>Sales</th>\n",
       "      <th>Price</th>\n",
       "      <th>Feature</th>\n",
       "      <th>Display</th>\n",
       "      <th>Price - Competitor 1</th>\n",
       "      <th>Price - Competitor 2</th>\n",
       "      <th>Price - Competitor 3</th>\n",
       "      <th>Price - Competitor 4</th>\n",
       "      <th>Price - Competitor 5</th>\n",
       "    </tr>\n",
       "  </thead>\n",
       "  <tbody>\n",
       "    <tr>\n",
       "      <th>0</th>\n",
       "      <td>20.0</td>\n",
       "      <td>5.69</td>\n",
       "      <td>0</td>\n",
       "      <td>0</td>\n",
       "      <td>4.07</td>\n",
       "      <td>4.11</td>\n",
       "      <td>5.28</td>\n",
       "      <td>4.69</td>\n",
       "      <td>3.29</td>\n",
       "    </tr>\n",
       "    <tr>\n",
       "      <th>1</th>\n",
       "      <td>26.0</td>\n",
       "      <td>5.97</td>\n",
       "      <td>0</td>\n",
       "      <td>0</td>\n",
       "      <td>4.07</td>\n",
       "      <td>3.78</td>\n",
       "      <td>5.25</td>\n",
       "      <td>3.95</td>\n",
       "      <td>3.49</td>\n",
       "    </tr>\n",
       "    <tr>\n",
       "      <th>2</th>\n",
       "      <td>41.0</td>\n",
       "      <td>6.19</td>\n",
       "      <td>0</td>\n",
       "      <td>0</td>\n",
       "      <td>4.06</td>\n",
       "      <td>3.42</td>\n",
       "      <td>5.54</td>\n",
       "      <td>3.33</td>\n",
       "      <td>3.69</td>\n",
       "    </tr>\n",
       "    <tr>\n",
       "      <th>3</th>\n",
       "      <td>34.0</td>\n",
       "      <td>5.78</td>\n",
       "      <td>0</td>\n",
       "      <td>0</td>\n",
       "      <td>4.07</td>\n",
       "      <td>3.51</td>\n",
       "      <td>4.50</td>\n",
       "      <td>3.97</td>\n",
       "      <td>2.17</td>\n",
       "    </tr>\n",
       "    <tr>\n",
       "      <th>4</th>\n",
       "      <td>32.0</td>\n",
       "      <td>6.19</td>\n",
       "      <td>0</td>\n",
       "      <td>0</td>\n",
       "      <td>4.07</td>\n",
       "      <td>3.40</td>\n",
       "      <td>5.50</td>\n",
       "      <td>2.76</td>\n",
       "      <td>3.69</td>\n",
       "    </tr>\n",
       "  </tbody>\n",
       "</table>\n",
       "</div>"
      ],
      "text/plain": [
       "   Sales  Price  Feature  Display  Price - Competitor 1  Price - Competitor 2  \\\n",
       "0   20.0   5.69        0        0                  4.07                  4.11   \n",
       "1   26.0   5.97        0        0                  4.07                  3.78   \n",
       "2   41.0   6.19        0        0                  4.06                  3.42   \n",
       "3   34.0   5.78        0        0                  4.07                  3.51   \n",
       "4   32.0   6.19        0        0                  4.07                  3.40   \n",
       "\n",
       "   Price - Competitor 3  Price - Competitor 4  Price - Competitor 5  \n",
       "0                  5.28                  4.69                  3.29  \n",
       "1                  5.25                  3.95                  3.49  \n",
       "2                  5.54                  3.33                  3.69  \n",
       "3                  4.50                  3.97                  2.17  \n",
       "4                  5.50                  2.76                  3.69  "
      ]
     },
     "execution_count": 55,
     "metadata": {},
     "output_type": "execute_result"
    }
   ],
   "source": [
    "df.head()"
   ]
  },
  {
   "cell_type": "code",
   "execution_count": 56,
   "id": "260716c1",
   "metadata": {},
   "outputs": [
    {
     "data": {
      "text/html": [
       "<div>\n",
       "<style scoped>\n",
       "    .dataframe tbody tr th:only-of-type {\n",
       "        vertical-align: middle;\n",
       "    }\n",
       "\n",
       "    .dataframe tbody tr th {\n",
       "        vertical-align: top;\n",
       "    }\n",
       "\n",
       "    .dataframe thead th {\n",
       "        text-align: right;\n",
       "    }\n",
       "</style>\n",
       "<table border=\"1\" class=\"dataframe\">\n",
       "  <thead>\n",
       "    <tr style=\"text-align: right;\">\n",
       "      <th></th>\n",
       "      <th>Price</th>\n",
       "      <th>Feature</th>\n",
       "      <th>Display</th>\n",
       "      <th>Price - Competitor 1</th>\n",
       "      <th>Price - Competitor 2</th>\n",
       "      <th>Price - Competitor 3</th>\n",
       "      <th>Price - Competitor 4</th>\n",
       "      <th>Price - Competitor 5</th>\n",
       "      <th>price*display</th>\n",
       "    </tr>\n",
       "  </thead>\n",
       "  <tbody>\n",
       "    <tr>\n",
       "      <th>2459</th>\n",
       "      <td>5.89</td>\n",
       "      <td>0</td>\n",
       "      <td>0</td>\n",
       "      <td>3.39</td>\n",
       "      <td>3.51</td>\n",
       "      <td>5.42</td>\n",
       "      <td>4.31</td>\n",
       "      <td>2.62</td>\n",
       "      <td>0.0</td>\n",
       "    </tr>\n",
       "    <tr>\n",
       "      <th>2600</th>\n",
       "      <td>6.29</td>\n",
       "      <td>0</td>\n",
       "      <td>0</td>\n",
       "      <td>4.78</td>\n",
       "      <td>3.90</td>\n",
       "      <td>6.11</td>\n",
       "      <td>3.70</td>\n",
       "      <td>3.79</td>\n",
       "      <td>0.0</td>\n",
       "    </tr>\n",
       "    <tr>\n",
       "      <th>3082</th>\n",
       "      <td>5.79</td>\n",
       "      <td>0</td>\n",
       "      <td>0</td>\n",
       "      <td>4.88</td>\n",
       "      <td>4.20</td>\n",
       "      <td>5.99</td>\n",
       "      <td>4.79</td>\n",
       "      <td>3.39</td>\n",
       "      <td>0.0</td>\n",
       "    </tr>\n",
       "    <tr>\n",
       "      <th>862</th>\n",
       "      <td>5.89</td>\n",
       "      <td>0</td>\n",
       "      <td>0</td>\n",
       "      <td>4.32</td>\n",
       "      <td>3.66</td>\n",
       "      <td>5.68</td>\n",
       "      <td>4.78</td>\n",
       "      <td>3.29</td>\n",
       "      <td>0.0</td>\n",
       "    </tr>\n",
       "    <tr>\n",
       "      <th>3990</th>\n",
       "      <td>5.27</td>\n",
       "      <td>0</td>\n",
       "      <td>0</td>\n",
       "      <td>5.29</td>\n",
       "      <td>4.21</td>\n",
       "      <td>6.39</td>\n",
       "      <td>4.04</td>\n",
       "      <td>3.89</td>\n",
       "      <td>0.0</td>\n",
       "    </tr>\n",
       "    <tr>\n",
       "      <th>...</th>\n",
       "      <td>...</td>\n",
       "      <td>...</td>\n",
       "      <td>...</td>\n",
       "      <td>...</td>\n",
       "      <td>...</td>\n",
       "      <td>...</td>\n",
       "      <td>...</td>\n",
       "      <td>...</td>\n",
       "      <td>...</td>\n",
       "    </tr>\n",
       "    <tr>\n",
       "      <th>3444</th>\n",
       "      <td>6.29</td>\n",
       "      <td>0</td>\n",
       "      <td>0</td>\n",
       "      <td>4.99</td>\n",
       "      <td>3.62</td>\n",
       "      <td>5.89</td>\n",
       "      <td>3.73</td>\n",
       "      <td>3.79</td>\n",
       "      <td>0.0</td>\n",
       "    </tr>\n",
       "    <tr>\n",
       "      <th>466</th>\n",
       "      <td>5.02</td>\n",
       "      <td>1</td>\n",
       "      <td>0</td>\n",
       "      <td>3.93</td>\n",
       "      <td>4.00</td>\n",
       "      <td>6.33</td>\n",
       "      <td>4.51</td>\n",
       "      <td>2.45</td>\n",
       "      <td>0.0</td>\n",
       "    </tr>\n",
       "    <tr>\n",
       "      <th>3092</th>\n",
       "      <td>5.89</td>\n",
       "      <td>0</td>\n",
       "      <td>0</td>\n",
       "      <td>4.89</td>\n",
       "      <td>3.55</td>\n",
       "      <td>5.99</td>\n",
       "      <td>4.89</td>\n",
       "      <td>3.49</td>\n",
       "      <td>0.0</td>\n",
       "    </tr>\n",
       "    <tr>\n",
       "      <th>3772</th>\n",
       "      <td>5.50</td>\n",
       "      <td>0</td>\n",
       "      <td>0</td>\n",
       "      <td>2.99</td>\n",
       "      <td>3.69</td>\n",
       "      <td>5.00</td>\n",
       "      <td>3.50</td>\n",
       "      <td>2.00</td>\n",
       "      <td>0.0</td>\n",
       "    </tr>\n",
       "    <tr>\n",
       "      <th>860</th>\n",
       "      <td>6.19</td>\n",
       "      <td>0</td>\n",
       "      <td>0</td>\n",
       "      <td>3.81</td>\n",
       "      <td>3.34</td>\n",
       "      <td>5.87</td>\n",
       "      <td>4.69</td>\n",
       "      <td>3.69</td>\n",
       "      <td>0.0</td>\n",
       "    </tr>\n",
       "  </tbody>\n",
       "</table>\n",
       "<p>3352 rows × 9 columns</p>\n",
       "</div>"
      ],
      "text/plain": [
       "      Price  Feature  Display  Price - Competitor 1  Price - Competitor 2  \\\n",
       "2459   5.89        0        0                  3.39                  3.51   \n",
       "2600   6.29        0        0                  4.78                  3.90   \n",
       "3082   5.79        0        0                  4.88                  4.20   \n",
       "862    5.89        0        0                  4.32                  3.66   \n",
       "3990   5.27        0        0                  5.29                  4.21   \n",
       "...     ...      ...      ...                   ...                   ...   \n",
       "3444   6.29        0        0                  4.99                  3.62   \n",
       "466    5.02        1        0                  3.93                  4.00   \n",
       "3092   5.89        0        0                  4.89                  3.55   \n",
       "3772   5.50        0        0                  2.99                  3.69   \n",
       "860    6.19        0        0                  3.81                  3.34   \n",
       "\n",
       "      Price - Competitor 3  Price - Competitor 4  Price - Competitor 5  \\\n",
       "2459                  5.42                  4.31                  2.62   \n",
       "2600                  6.11                  3.70                  3.79   \n",
       "3082                  5.99                  4.79                  3.39   \n",
       "862                   5.68                  4.78                  3.29   \n",
       "3990                  6.39                  4.04                  3.89   \n",
       "...                    ...                   ...                   ...   \n",
       "3444                  5.89                  3.73                  3.79   \n",
       "466                   6.33                  4.51                  2.45   \n",
       "3092                  5.99                  4.89                  3.49   \n",
       "3772                  5.00                  3.50                  2.00   \n",
       "860                   5.87                  4.69                  3.69   \n",
       "\n",
       "      price*display  \n",
       "2459            0.0  \n",
       "2600            0.0  \n",
       "3082            0.0  \n",
       "862             0.0  \n",
       "3990            0.0  \n",
       "...             ...  \n",
       "3444            0.0  \n",
       "466             0.0  \n",
       "3092            0.0  \n",
       "3772            0.0  \n",
       "860             0.0  \n",
       "\n",
       "[3352 rows x 9 columns]"
      ]
     },
     "execution_count": 56,
     "metadata": {},
     "output_type": "execute_result"
    }
   ],
   "source": [
    "X_train[\"price*display\"]=X_train[\"Price\"]*X_train[\"Display\"]\n",
    "X_train"
   ]
  },
  {
   "cell_type": "code",
   "execution_count": 57,
   "id": "74852b90",
   "metadata": {},
   "outputs": [
    {
     "data": {
      "text/html": [
       "<div>\n",
       "<style scoped>\n",
       "    .dataframe tbody tr th:only-of-type {\n",
       "        vertical-align: middle;\n",
       "    }\n",
       "\n",
       "    .dataframe tbody tr th {\n",
       "        vertical-align: top;\n",
       "    }\n",
       "\n",
       "    .dataframe thead th {\n",
       "        text-align: right;\n",
       "    }\n",
       "</style>\n",
       "<table border=\"1\" class=\"dataframe\">\n",
       "  <thead>\n",
       "    <tr style=\"text-align: right;\">\n",
       "      <th></th>\n",
       "      <th>Price</th>\n",
       "      <th>Feature</th>\n",
       "      <th>Display</th>\n",
       "      <th>Price - Competitor 1</th>\n",
       "      <th>Price - Competitor 2</th>\n",
       "      <th>Price - Competitor 3</th>\n",
       "      <th>Price - Competitor 4</th>\n",
       "      <th>Price - Competitor 5</th>\n",
       "      <th>price*display</th>\n",
       "    </tr>\n",
       "  </thead>\n",
       "  <tbody>\n",
       "    <tr>\n",
       "      <th>4085</th>\n",
       "      <td>6.49</td>\n",
       "      <td>0</td>\n",
       "      <td>0</td>\n",
       "      <td>5.40</td>\n",
       "      <td>4.73</td>\n",
       "      <td>5.50</td>\n",
       "      <td>5.80</td>\n",
       "      <td>3.95</td>\n",
       "      <td>0.00</td>\n",
       "    </tr>\n",
       "    <tr>\n",
       "      <th>1732</th>\n",
       "      <td>5.59</td>\n",
       "      <td>0</td>\n",
       "      <td>0</td>\n",
       "      <td>3.55</td>\n",
       "      <td>3.28</td>\n",
       "      <td>4.68</td>\n",
       "      <td>4.17</td>\n",
       "      <td>2.10</td>\n",
       "      <td>0.00</td>\n",
       "    </tr>\n",
       "    <tr>\n",
       "      <th>2242</th>\n",
       "      <td>5.69</td>\n",
       "      <td>0</td>\n",
       "      <td>0</td>\n",
       "      <td>4.70</td>\n",
       "      <td>3.73</td>\n",
       "      <td>5.98</td>\n",
       "      <td>4.99</td>\n",
       "      <td>3.29</td>\n",
       "      <td>0.00</td>\n",
       "    </tr>\n",
       "    <tr>\n",
       "      <th>96</th>\n",
       "      <td>5.58</td>\n",
       "      <td>0</td>\n",
       "      <td>0</td>\n",
       "      <td>4.10</td>\n",
       "      <td>3.80</td>\n",
       "      <td>6.39</td>\n",
       "      <td>4.66</td>\n",
       "      <td>2.50</td>\n",
       "      <td>0.00</td>\n",
       "    </tr>\n",
       "    <tr>\n",
       "      <th>1657</th>\n",
       "      <td>6.29</td>\n",
       "      <td>0</td>\n",
       "      <td>0</td>\n",
       "      <td>3.57</td>\n",
       "      <td>3.55</td>\n",
       "      <td>5.00</td>\n",
       "      <td>3.44</td>\n",
       "      <td>3.15</td>\n",
       "      <td>0.00</td>\n",
       "    </tr>\n",
       "    <tr>\n",
       "      <th>...</th>\n",
       "      <td>...</td>\n",
       "      <td>...</td>\n",
       "      <td>...</td>\n",
       "      <td>...</td>\n",
       "      <td>...</td>\n",
       "      <td>...</td>\n",
       "      <td>...</td>\n",
       "      <td>...</td>\n",
       "      <td>...</td>\n",
       "    </tr>\n",
       "    <tr>\n",
       "      <th>1064</th>\n",
       "      <td>6.28</td>\n",
       "      <td>0</td>\n",
       "      <td>0</td>\n",
       "      <td>3.75</td>\n",
       "      <td>4.78</td>\n",
       "      <td>6.47</td>\n",
       "      <td>5.66</td>\n",
       "      <td>3.00</td>\n",
       "      <td>0.00</td>\n",
       "    </tr>\n",
       "    <tr>\n",
       "      <th>3599</th>\n",
       "      <td>6.34</td>\n",
       "      <td>0</td>\n",
       "      <td>0</td>\n",
       "      <td>5.09</td>\n",
       "      <td>4.58</td>\n",
       "      <td>6.39</td>\n",
       "      <td>5.79</td>\n",
       "      <td>2.90</td>\n",
       "      <td>0.00</td>\n",
       "    </tr>\n",
       "    <tr>\n",
       "      <th>1044</th>\n",
       "      <td>4.48</td>\n",
       "      <td>0</td>\n",
       "      <td>1</td>\n",
       "      <td>3.75</td>\n",
       "      <td>4.02</td>\n",
       "      <td>5.49</td>\n",
       "      <td>4.39</td>\n",
       "      <td>2.89</td>\n",
       "      <td>4.48</td>\n",
       "    </tr>\n",
       "    <tr>\n",
       "      <th>978</th>\n",
       "      <td>5.03</td>\n",
       "      <td>1</td>\n",
       "      <td>1</td>\n",
       "      <td>3.77</td>\n",
       "      <td>3.97</td>\n",
       "      <td>5.01</td>\n",
       "      <td>4.95</td>\n",
       "      <td>3.49</td>\n",
       "      <td>5.03</td>\n",
       "    </tr>\n",
       "    <tr>\n",
       "      <th>332</th>\n",
       "      <td>6.20</td>\n",
       "      <td>0</td>\n",
       "      <td>0</td>\n",
       "      <td>3.96</td>\n",
       "      <td>3.99</td>\n",
       "      <td>6.39</td>\n",
       "      <td>5.49</td>\n",
       "      <td>3.22</td>\n",
       "      <td>0.00</td>\n",
       "    </tr>\n",
       "  </tbody>\n",
       "</table>\n",
       "<p>839 rows × 9 columns</p>\n",
       "</div>"
      ],
      "text/plain": [
       "      Price  Feature  Display  Price - Competitor 1  Price - Competitor 2  \\\n",
       "4085   6.49        0        0                  5.40                  4.73   \n",
       "1732   5.59        0        0                  3.55                  3.28   \n",
       "2242   5.69        0        0                  4.70                  3.73   \n",
       "96     5.58        0        0                  4.10                  3.80   \n",
       "1657   6.29        0        0                  3.57                  3.55   \n",
       "...     ...      ...      ...                   ...                   ...   \n",
       "1064   6.28        0        0                  3.75                  4.78   \n",
       "3599   6.34        0        0                  5.09                  4.58   \n",
       "1044   4.48        0        1                  3.75                  4.02   \n",
       "978    5.03        1        1                  3.77                  3.97   \n",
       "332    6.20        0        0                  3.96                  3.99   \n",
       "\n",
       "      Price - Competitor 3  Price - Competitor 4  Price - Competitor 5  \\\n",
       "4085                  5.50                  5.80                  3.95   \n",
       "1732                  4.68                  4.17                  2.10   \n",
       "2242                  5.98                  4.99                  3.29   \n",
       "96                    6.39                  4.66                  2.50   \n",
       "1657                  5.00                  3.44                  3.15   \n",
       "...                    ...                   ...                   ...   \n",
       "1064                  6.47                  5.66                  3.00   \n",
       "3599                  6.39                  5.79                  2.90   \n",
       "1044                  5.49                  4.39                  2.89   \n",
       "978                   5.01                  4.95                  3.49   \n",
       "332                   6.39                  5.49                  3.22   \n",
       "\n",
       "      price*display  \n",
       "4085           0.00  \n",
       "1732           0.00  \n",
       "2242           0.00  \n",
       "96             0.00  \n",
       "1657           0.00  \n",
       "...             ...  \n",
       "1064           0.00  \n",
       "3599           0.00  \n",
       "1044           4.48  \n",
       "978            5.03  \n",
       "332            0.00  \n",
       "\n",
       "[839 rows x 9 columns]"
      ]
     },
     "execution_count": 57,
     "metadata": {},
     "output_type": "execute_result"
    }
   ],
   "source": [
    "X_test[\"price*display\"]=X_test[\"Price\"]*X_test[\"Display\"]\n",
    "X_test"
   ]
  },
  {
   "cell_type": "code",
   "execution_count": 58,
   "id": "fefd3aca",
   "metadata": {},
   "outputs": [
    {
     "name": "stdout",
     "output_type": "stream",
     "text": [
      "                            OLS Regression Results                            \n",
      "==============================================================================\n",
      "Dep. Variable:                  Sales   R-squared:                       0.601\n",
      "Model:                            OLS   Adj. R-squared:                  0.600\n",
      "Method:                 Least Squares   F-statistic:                     559.0\n",
      "Date:                Fri, 03 Jun 2022   Prob (F-statistic):               0.00\n",
      "Time:                        23:22:25   Log-Likelihood:                -18165.\n",
      "No. Observations:                3352   AIC:                         3.635e+04\n",
      "Df Residuals:                    3342   BIC:                         3.641e+04\n",
      "Df Model:                           9                                         \n",
      "Covariance Type:            nonrobust                                         \n",
      "========================================================================================\n",
      "                           coef    std err          t      P>|t|      [0.025      0.975]\n",
      "----------------------------------------------------------------------------------------\n",
      "const                  169.9087     12.055     14.094      0.000     146.272     193.546\n",
      "Price                  -30.1594      2.184    -13.811      0.000     -34.441     -25.878\n",
      "Feature                 52.5303      2.839     18.503      0.000      46.964      58.097\n",
      "Display                697.8213     25.687     27.166      0.000     647.457     748.186\n",
      "Price - Competitor 1     7.6742      1.373      5.588      0.000       4.982      10.367\n",
      "Price - Competitor 2     4.0933      2.230      1.836      0.067      -0.279       8.466\n",
      "Price - Competitor 3    -0.0885      1.635     -0.054      0.957      -3.293       3.117\n",
      "Price - Competitor 4     3.8372      1.510      2.540      0.011       0.876       6.799\n",
      "Price - Competitor 5    -2.5655      1.601     -1.602      0.109      -5.705       0.574\n",
      "price*display         -113.9218      4.825    -23.612      0.000    -123.382    -104.462\n",
      "==============================================================================\n",
      "Omnibus:                     2174.449   Durbin-Watson:                   2.036\n",
      "Prob(Omnibus):                  0.000   Jarque-Bera (JB):            70694.589\n",
      "Skew:                           2.585   Prob(JB):                         0.00\n",
      "Kurtosis:                      24.896   Cond. No.                         316.\n",
      "==============================================================================\n",
      "\n",
      "Notes:\n",
      "[1] Standard Errors assume that the covariance matrix of the errors is correctly specified.\n"
     ]
    }
   ],
   "source": [
    "regression_results(X_train,y_train)"
   ]
  },
  {
   "cell_type": "code",
   "execution_count": 59,
   "id": "e1061c2a",
   "metadata": {},
   "outputs": [
    {
     "data": {
      "text/html": [
       "<style>#sk-container-id-5 {color: black;background-color: white;}#sk-container-id-5 pre{padding: 0;}#sk-container-id-5 div.sk-toggleable {background-color: white;}#sk-container-id-5 label.sk-toggleable__label {cursor: pointer;display: block;width: 100%;margin-bottom: 0;padding: 0.3em;box-sizing: border-box;text-align: center;}#sk-container-id-5 label.sk-toggleable__label-arrow:before {content: \"▸\";float: left;margin-right: 0.25em;color: #696969;}#sk-container-id-5 label.sk-toggleable__label-arrow:hover:before {color: black;}#sk-container-id-5 div.sk-estimator:hover label.sk-toggleable__label-arrow:before {color: black;}#sk-container-id-5 div.sk-toggleable__content {max-height: 0;max-width: 0;overflow: hidden;text-align: left;background-color: #f0f8ff;}#sk-container-id-5 div.sk-toggleable__content pre {margin: 0.2em;color: black;border-radius: 0.25em;background-color: #f0f8ff;}#sk-container-id-5 input.sk-toggleable__control:checked~div.sk-toggleable__content {max-height: 200px;max-width: 100%;overflow: auto;}#sk-container-id-5 input.sk-toggleable__control:checked~label.sk-toggleable__label-arrow:before {content: \"▾\";}#sk-container-id-5 div.sk-estimator input.sk-toggleable__control:checked~label.sk-toggleable__label {background-color: #d4ebff;}#sk-container-id-5 div.sk-label input.sk-toggleable__control:checked~label.sk-toggleable__label {background-color: #d4ebff;}#sk-container-id-5 input.sk-hidden--visually {border: 0;clip: rect(1px 1px 1px 1px);clip: rect(1px, 1px, 1px, 1px);height: 1px;margin: -1px;overflow: hidden;padding: 0;position: absolute;width: 1px;}#sk-container-id-5 div.sk-estimator {font-family: monospace;background-color: #f0f8ff;border: 1px dotted black;border-radius: 0.25em;box-sizing: border-box;margin-bottom: 0.5em;}#sk-container-id-5 div.sk-estimator:hover {background-color: #d4ebff;}#sk-container-id-5 div.sk-parallel-item::after {content: \"\";width: 100%;border-bottom: 1px solid gray;flex-grow: 1;}#sk-container-id-5 div.sk-label:hover label.sk-toggleable__label {background-color: #d4ebff;}#sk-container-id-5 div.sk-serial::before {content: \"\";position: absolute;border-left: 1px solid gray;box-sizing: border-box;top: 0;bottom: 0;left: 50%;z-index: 0;}#sk-container-id-5 div.sk-serial {display: flex;flex-direction: column;align-items: center;background-color: white;padding-right: 0.2em;padding-left: 0.2em;position: relative;}#sk-container-id-5 div.sk-item {position: relative;z-index: 1;}#sk-container-id-5 div.sk-parallel {display: flex;align-items: stretch;justify-content: center;background-color: white;position: relative;}#sk-container-id-5 div.sk-item::before, #sk-container-id-5 div.sk-parallel-item::before {content: \"\";position: absolute;border-left: 1px solid gray;box-sizing: border-box;top: 0;bottom: 0;left: 50%;z-index: -1;}#sk-container-id-5 div.sk-parallel-item {display: flex;flex-direction: column;z-index: 1;position: relative;background-color: white;}#sk-container-id-5 div.sk-parallel-item:first-child::after {align-self: flex-end;width: 50%;}#sk-container-id-5 div.sk-parallel-item:last-child::after {align-self: flex-start;width: 50%;}#sk-container-id-5 div.sk-parallel-item:only-child::after {width: 0;}#sk-container-id-5 div.sk-dashed-wrapped {border: 1px dashed gray;margin: 0 0.4em 0.5em 0.4em;box-sizing: border-box;padding-bottom: 0.4em;background-color: white;}#sk-container-id-5 div.sk-label label {font-family: monospace;font-weight: bold;display: inline-block;line-height: 1.2em;}#sk-container-id-5 div.sk-label-container {text-align: center;}#sk-container-id-5 div.sk-container {/* jupyter's `normalize.less` sets `[hidden] { display: none; }` but bootstrap.min.css set `[hidden] { display: none !important; }` so we also need the `!important` here to be able to override the default hidden behavior on the sphinx rendered scikit-learn.org. See: https://github.com/scikit-learn/scikit-learn/issues/21755 */display: inline-block !important;position: relative;}#sk-container-id-5 div.sk-text-repr-fallback {display: none;}</style><div id=\"sk-container-id-5\" class=\"sk-top-container\"><div class=\"sk-text-repr-fallback\"><pre>LinearRegression()</pre><b>In a Jupyter environment, please rerun this cell to show the HTML representation or trust the notebook. <br />On GitHub, the HTML representation is unable to render, please try loading this page with nbviewer.org.</b></div><div class=\"sk-container\" hidden><div class=\"sk-item\"><div class=\"sk-estimator sk-toggleable\"><input class=\"sk-toggleable__control sk-hidden--visually\" id=\"sk-estimator-id-5\" type=\"checkbox\" checked><label for=\"sk-estimator-id-5\" class=\"sk-toggleable__label sk-toggleable__label-arrow\">LinearRegression</label><div class=\"sk-toggleable__content\"><pre>LinearRegression()</pre></div></div></div></div></div>"
      ],
      "text/plain": [
       "LinearRegression()"
      ]
     },
     "execution_count": 59,
     "metadata": {},
     "output_type": "execute_result"
    }
   ],
   "source": [
    "lr_add = LinearRegression()\n",
    "lr_add.fit(X_train,y_train)"
   ]
  },
  {
   "cell_type": "code",
   "execution_count": 60,
   "id": "6aba7dd4",
   "metadata": {},
   "outputs": [
    {
     "data": {
      "text/plain": [
       "0.6792310395783845"
      ]
     },
     "execution_count": 60,
     "metadata": {},
     "output_type": "execute_result"
    }
   ],
   "source": [
    "lr_add.score(X_test,y_test)"
   ]
  },
  {
   "cell_type": "markdown",
   "id": "80a76036",
   "metadata": {},
   "source": [
    "# Adj R2"
   ]
  },
  {
   "cell_type": "code",
   "execution_count": 61,
   "id": "4db7d935",
   "metadata": {},
   "outputs": [
    {
     "data": {
      "text/plain": [
       "0.6757486262565575"
      ]
     },
     "execution_count": 61,
     "metadata": {},
     "output_type": "execute_result"
    }
   ],
   "source": [
    " 1 - (1-lr_add.score(X_test, y_test))*(len(y_test)-1)/(len(y_test)-X_test.shape[1]-1)"
   ]
  },
  {
   "cell_type": "code",
   "execution_count": 62,
   "id": "62b453bc",
   "metadata": {
    "scrolled": false
   },
   "outputs": [],
   "source": [
    "y_pred_5 = lr_add.predict(X_test)\n",
    "#y_pred_5"
   ]
  },
  {
   "cell_type": "markdown",
   "id": "4522a170",
   "metadata": {},
   "source": [
    "# MAE, RMSE"
   ]
  },
  {
   "cell_type": "code",
   "execution_count": 63,
   "id": "40e97940",
   "metadata": {},
   "outputs": [
    {
     "data": {
      "text/plain": [
       "31.47021321955485"
      ]
     },
     "execution_count": 63,
     "metadata": {},
     "output_type": "execute_result"
    }
   ],
   "source": [
    "mae=mean_absolute_error(y_test,y_pred_5)\n",
    "mae"
   ]
  },
  {
   "cell_type": "code",
   "execution_count": 64,
   "id": "50539907",
   "metadata": {},
   "outputs": [
    {
     "data": {
      "text/plain": [
       "52.77314707393635"
      ]
     },
     "execution_count": 64,
     "metadata": {},
     "output_type": "execute_result"
    }
   ],
   "source": [
    "rmse=mean_squared_error(y_test, y_pred_5, squared=False) #squared=False --> RMSE\n",
    "rmse"
   ]
  },
  {
   "cell_type": "markdown",
   "id": "8d8b7c03",
   "metadata": {},
   "source": [
    "# taking first 3 and price*display"
   ]
  },
  {
   "cell_type": "code",
   "execution_count": 65,
   "id": "0cf7b560",
   "metadata": {},
   "outputs": [
    {
     "data": {
      "text/html": [
       "<div>\n",
       "<style scoped>\n",
       "    .dataframe tbody tr th:only-of-type {\n",
       "        vertical-align: middle;\n",
       "    }\n",
       "\n",
       "    .dataframe tbody tr th {\n",
       "        vertical-align: top;\n",
       "    }\n",
       "\n",
       "    .dataframe thead th {\n",
       "        text-align: right;\n",
       "    }\n",
       "</style>\n",
       "<table border=\"1\" class=\"dataframe\">\n",
       "  <thead>\n",
       "    <tr style=\"text-align: right;\">\n",
       "      <th></th>\n",
       "      <th>Price</th>\n",
       "      <th>Feature</th>\n",
       "      <th>Display</th>\n",
       "      <th>Price - Competitor 1</th>\n",
       "      <th>Price - Competitor 2</th>\n",
       "      <th>Price - Competitor 3</th>\n",
       "      <th>Price - Competitor 4</th>\n",
       "      <th>Price - Competitor 5</th>\n",
       "      <th>price*display</th>\n",
       "    </tr>\n",
       "  </thead>\n",
       "  <tbody>\n",
       "    <tr>\n",
       "      <th>2459</th>\n",
       "      <td>5.89</td>\n",
       "      <td>0</td>\n",
       "      <td>0</td>\n",
       "      <td>3.39</td>\n",
       "      <td>3.51</td>\n",
       "      <td>5.42</td>\n",
       "      <td>4.31</td>\n",
       "      <td>2.62</td>\n",
       "      <td>0.0</td>\n",
       "    </tr>\n",
       "    <tr>\n",
       "      <th>2600</th>\n",
       "      <td>6.29</td>\n",
       "      <td>0</td>\n",
       "      <td>0</td>\n",
       "      <td>4.78</td>\n",
       "      <td>3.90</td>\n",
       "      <td>6.11</td>\n",
       "      <td>3.70</td>\n",
       "      <td>3.79</td>\n",
       "      <td>0.0</td>\n",
       "    </tr>\n",
       "    <tr>\n",
       "      <th>3082</th>\n",
       "      <td>5.79</td>\n",
       "      <td>0</td>\n",
       "      <td>0</td>\n",
       "      <td>4.88</td>\n",
       "      <td>4.20</td>\n",
       "      <td>5.99</td>\n",
       "      <td>4.79</td>\n",
       "      <td>3.39</td>\n",
       "      <td>0.0</td>\n",
       "    </tr>\n",
       "    <tr>\n",
       "      <th>862</th>\n",
       "      <td>5.89</td>\n",
       "      <td>0</td>\n",
       "      <td>0</td>\n",
       "      <td>4.32</td>\n",
       "      <td>3.66</td>\n",
       "      <td>5.68</td>\n",
       "      <td>4.78</td>\n",
       "      <td>3.29</td>\n",
       "      <td>0.0</td>\n",
       "    </tr>\n",
       "    <tr>\n",
       "      <th>3990</th>\n",
       "      <td>5.27</td>\n",
       "      <td>0</td>\n",
       "      <td>0</td>\n",
       "      <td>5.29</td>\n",
       "      <td>4.21</td>\n",
       "      <td>6.39</td>\n",
       "      <td>4.04</td>\n",
       "      <td>3.89</td>\n",
       "      <td>0.0</td>\n",
       "    </tr>\n",
       "    <tr>\n",
       "      <th>...</th>\n",
       "      <td>...</td>\n",
       "      <td>...</td>\n",
       "      <td>...</td>\n",
       "      <td>...</td>\n",
       "      <td>...</td>\n",
       "      <td>...</td>\n",
       "      <td>...</td>\n",
       "      <td>...</td>\n",
       "      <td>...</td>\n",
       "    </tr>\n",
       "    <tr>\n",
       "      <th>3444</th>\n",
       "      <td>6.29</td>\n",
       "      <td>0</td>\n",
       "      <td>0</td>\n",
       "      <td>4.99</td>\n",
       "      <td>3.62</td>\n",
       "      <td>5.89</td>\n",
       "      <td>3.73</td>\n",
       "      <td>3.79</td>\n",
       "      <td>0.0</td>\n",
       "    </tr>\n",
       "    <tr>\n",
       "      <th>466</th>\n",
       "      <td>5.02</td>\n",
       "      <td>1</td>\n",
       "      <td>0</td>\n",
       "      <td>3.93</td>\n",
       "      <td>4.00</td>\n",
       "      <td>6.33</td>\n",
       "      <td>4.51</td>\n",
       "      <td>2.45</td>\n",
       "      <td>0.0</td>\n",
       "    </tr>\n",
       "    <tr>\n",
       "      <th>3092</th>\n",
       "      <td>5.89</td>\n",
       "      <td>0</td>\n",
       "      <td>0</td>\n",
       "      <td>4.89</td>\n",
       "      <td>3.55</td>\n",
       "      <td>5.99</td>\n",
       "      <td>4.89</td>\n",
       "      <td>3.49</td>\n",
       "      <td>0.0</td>\n",
       "    </tr>\n",
       "    <tr>\n",
       "      <th>3772</th>\n",
       "      <td>5.50</td>\n",
       "      <td>0</td>\n",
       "      <td>0</td>\n",
       "      <td>2.99</td>\n",
       "      <td>3.69</td>\n",
       "      <td>5.00</td>\n",
       "      <td>3.50</td>\n",
       "      <td>2.00</td>\n",
       "      <td>0.0</td>\n",
       "    </tr>\n",
       "    <tr>\n",
       "      <th>860</th>\n",
       "      <td>6.19</td>\n",
       "      <td>0</td>\n",
       "      <td>0</td>\n",
       "      <td>3.81</td>\n",
       "      <td>3.34</td>\n",
       "      <td>5.87</td>\n",
       "      <td>4.69</td>\n",
       "      <td>3.69</td>\n",
       "      <td>0.0</td>\n",
       "    </tr>\n",
       "  </tbody>\n",
       "</table>\n",
       "<p>3352 rows × 9 columns</p>\n",
       "</div>"
      ],
      "text/plain": [
       "      Price  Feature  Display  Price - Competitor 1  Price - Competitor 2  \\\n",
       "2459   5.89        0        0                  3.39                  3.51   \n",
       "2600   6.29        0        0                  4.78                  3.90   \n",
       "3082   5.79        0        0                  4.88                  4.20   \n",
       "862    5.89        0        0                  4.32                  3.66   \n",
       "3990   5.27        0        0                  5.29                  4.21   \n",
       "...     ...      ...      ...                   ...                   ...   \n",
       "3444   6.29        0        0                  4.99                  3.62   \n",
       "466    5.02        1        0                  3.93                  4.00   \n",
       "3092   5.89        0        0                  4.89                  3.55   \n",
       "3772   5.50        0        0                  2.99                  3.69   \n",
       "860    6.19        0        0                  3.81                  3.34   \n",
       "\n",
       "      Price - Competitor 3  Price - Competitor 4  Price - Competitor 5  \\\n",
       "2459                  5.42                  4.31                  2.62   \n",
       "2600                  6.11                  3.70                  3.79   \n",
       "3082                  5.99                  4.79                  3.39   \n",
       "862                   5.68                  4.78                  3.29   \n",
       "3990                  6.39                  4.04                  3.89   \n",
       "...                    ...                   ...                   ...   \n",
       "3444                  5.89                  3.73                  3.79   \n",
       "466                   6.33                  4.51                  2.45   \n",
       "3092                  5.99                  4.89                  3.49   \n",
       "3772                  5.00                  3.50                  2.00   \n",
       "860                   5.87                  4.69                  3.69   \n",
       "\n",
       "      price*display  \n",
       "2459            0.0  \n",
       "2600            0.0  \n",
       "3082            0.0  \n",
       "862             0.0  \n",
       "3990            0.0  \n",
       "...             ...  \n",
       "3444            0.0  \n",
       "466             0.0  \n",
       "3092            0.0  \n",
       "3772            0.0  \n",
       "860             0.0  \n",
       "\n",
       "[3352 rows x 9 columns]"
      ]
     },
     "execution_count": 65,
     "metadata": {},
     "output_type": "execute_result"
    }
   ],
   "source": [
    "X_train"
   ]
  },
  {
   "cell_type": "code",
   "execution_count": 66,
   "id": "b84ee225",
   "metadata": {},
   "outputs": [
    {
     "data": {
      "text/html": [
       "<div>\n",
       "<style scoped>\n",
       "    .dataframe tbody tr th:only-of-type {\n",
       "        vertical-align: middle;\n",
       "    }\n",
       "\n",
       "    .dataframe tbody tr th {\n",
       "        vertical-align: top;\n",
       "    }\n",
       "\n",
       "    .dataframe thead th {\n",
       "        text-align: right;\n",
       "    }\n",
       "</style>\n",
       "<table border=\"1\" class=\"dataframe\">\n",
       "  <thead>\n",
       "    <tr style=\"text-align: right;\">\n",
       "      <th></th>\n",
       "      <th>Price</th>\n",
       "      <th>Feature</th>\n",
       "      <th>Display</th>\n",
       "      <th>price*display</th>\n",
       "    </tr>\n",
       "  </thead>\n",
       "  <tbody>\n",
       "    <tr>\n",
       "      <th>2459</th>\n",
       "      <td>5.89</td>\n",
       "      <td>0</td>\n",
       "      <td>0</td>\n",
       "      <td>0.0</td>\n",
       "    </tr>\n",
       "    <tr>\n",
       "      <th>2600</th>\n",
       "      <td>6.29</td>\n",
       "      <td>0</td>\n",
       "      <td>0</td>\n",
       "      <td>0.0</td>\n",
       "    </tr>\n",
       "    <tr>\n",
       "      <th>3082</th>\n",
       "      <td>5.79</td>\n",
       "      <td>0</td>\n",
       "      <td>0</td>\n",
       "      <td>0.0</td>\n",
       "    </tr>\n",
       "    <tr>\n",
       "      <th>862</th>\n",
       "      <td>5.89</td>\n",
       "      <td>0</td>\n",
       "      <td>0</td>\n",
       "      <td>0.0</td>\n",
       "    </tr>\n",
       "    <tr>\n",
       "      <th>3990</th>\n",
       "      <td>5.27</td>\n",
       "      <td>0</td>\n",
       "      <td>0</td>\n",
       "      <td>0.0</td>\n",
       "    </tr>\n",
       "    <tr>\n",
       "      <th>...</th>\n",
       "      <td>...</td>\n",
       "      <td>...</td>\n",
       "      <td>...</td>\n",
       "      <td>...</td>\n",
       "    </tr>\n",
       "    <tr>\n",
       "      <th>3444</th>\n",
       "      <td>6.29</td>\n",
       "      <td>0</td>\n",
       "      <td>0</td>\n",
       "      <td>0.0</td>\n",
       "    </tr>\n",
       "    <tr>\n",
       "      <th>466</th>\n",
       "      <td>5.02</td>\n",
       "      <td>1</td>\n",
       "      <td>0</td>\n",
       "      <td>0.0</td>\n",
       "    </tr>\n",
       "    <tr>\n",
       "      <th>3092</th>\n",
       "      <td>5.89</td>\n",
       "      <td>0</td>\n",
       "      <td>0</td>\n",
       "      <td>0.0</td>\n",
       "    </tr>\n",
       "    <tr>\n",
       "      <th>3772</th>\n",
       "      <td>5.50</td>\n",
       "      <td>0</td>\n",
       "      <td>0</td>\n",
       "      <td>0.0</td>\n",
       "    </tr>\n",
       "    <tr>\n",
       "      <th>860</th>\n",
       "      <td>6.19</td>\n",
       "      <td>0</td>\n",
       "      <td>0</td>\n",
       "      <td>0.0</td>\n",
       "    </tr>\n",
       "  </tbody>\n",
       "</table>\n",
       "<p>3352 rows × 4 columns</p>\n",
       "</div>"
      ],
      "text/plain": [
       "      Price  Feature  Display  price*display\n",
       "2459   5.89        0        0            0.0\n",
       "2600   6.29        0        0            0.0\n",
       "3082   5.79        0        0            0.0\n",
       "862    5.89        0        0            0.0\n",
       "3990   5.27        0        0            0.0\n",
       "...     ...      ...      ...            ...\n",
       "3444   6.29        0        0            0.0\n",
       "466    5.02        1        0            0.0\n",
       "3092   5.89        0        0            0.0\n",
       "3772   5.50        0        0            0.0\n",
       "860    6.19        0        0            0.0\n",
       "\n",
       "[3352 rows x 4 columns]"
      ]
     },
     "execution_count": 66,
     "metadata": {},
     "output_type": "execute_result"
    }
   ],
   "source": [
    "X_3plusinteraction = X_train.loc[:,(\"Price\",\"Feature\",\"Display\",\"price*display\")]\n",
    "X_3plusinteraction"
   ]
  },
  {
   "cell_type": "code",
   "execution_count": 67,
   "id": "6fefd8ca",
   "metadata": {},
   "outputs": [
    {
     "data": {
      "text/html": [
       "<div>\n",
       "<style scoped>\n",
       "    .dataframe tbody tr th:only-of-type {\n",
       "        vertical-align: middle;\n",
       "    }\n",
       "\n",
       "    .dataframe tbody tr th {\n",
       "        vertical-align: top;\n",
       "    }\n",
       "\n",
       "    .dataframe thead th {\n",
       "        text-align: right;\n",
       "    }\n",
       "</style>\n",
       "<table border=\"1\" class=\"dataframe\">\n",
       "  <thead>\n",
       "    <tr style=\"text-align: right;\">\n",
       "      <th></th>\n",
       "      <th>Price</th>\n",
       "      <th>Feature</th>\n",
       "      <th>Display</th>\n",
       "      <th>price*display</th>\n",
       "    </tr>\n",
       "  </thead>\n",
       "  <tbody>\n",
       "    <tr>\n",
       "      <th>4085</th>\n",
       "      <td>6.49</td>\n",
       "      <td>0</td>\n",
       "      <td>0</td>\n",
       "      <td>0.00</td>\n",
       "    </tr>\n",
       "    <tr>\n",
       "      <th>1732</th>\n",
       "      <td>5.59</td>\n",
       "      <td>0</td>\n",
       "      <td>0</td>\n",
       "      <td>0.00</td>\n",
       "    </tr>\n",
       "    <tr>\n",
       "      <th>2242</th>\n",
       "      <td>5.69</td>\n",
       "      <td>0</td>\n",
       "      <td>0</td>\n",
       "      <td>0.00</td>\n",
       "    </tr>\n",
       "    <tr>\n",
       "      <th>96</th>\n",
       "      <td>5.58</td>\n",
       "      <td>0</td>\n",
       "      <td>0</td>\n",
       "      <td>0.00</td>\n",
       "    </tr>\n",
       "    <tr>\n",
       "      <th>1657</th>\n",
       "      <td>6.29</td>\n",
       "      <td>0</td>\n",
       "      <td>0</td>\n",
       "      <td>0.00</td>\n",
       "    </tr>\n",
       "    <tr>\n",
       "      <th>...</th>\n",
       "      <td>...</td>\n",
       "      <td>...</td>\n",
       "      <td>...</td>\n",
       "      <td>...</td>\n",
       "    </tr>\n",
       "    <tr>\n",
       "      <th>1064</th>\n",
       "      <td>6.28</td>\n",
       "      <td>0</td>\n",
       "      <td>0</td>\n",
       "      <td>0.00</td>\n",
       "    </tr>\n",
       "    <tr>\n",
       "      <th>3599</th>\n",
       "      <td>6.34</td>\n",
       "      <td>0</td>\n",
       "      <td>0</td>\n",
       "      <td>0.00</td>\n",
       "    </tr>\n",
       "    <tr>\n",
       "      <th>1044</th>\n",
       "      <td>4.48</td>\n",
       "      <td>0</td>\n",
       "      <td>1</td>\n",
       "      <td>4.48</td>\n",
       "    </tr>\n",
       "    <tr>\n",
       "      <th>978</th>\n",
       "      <td>5.03</td>\n",
       "      <td>1</td>\n",
       "      <td>1</td>\n",
       "      <td>5.03</td>\n",
       "    </tr>\n",
       "    <tr>\n",
       "      <th>332</th>\n",
       "      <td>6.20</td>\n",
       "      <td>0</td>\n",
       "      <td>0</td>\n",
       "      <td>0.00</td>\n",
       "    </tr>\n",
       "  </tbody>\n",
       "</table>\n",
       "<p>839 rows × 4 columns</p>\n",
       "</div>"
      ],
      "text/plain": [
       "      Price  Feature  Display  price*display\n",
       "4085   6.49        0        0           0.00\n",
       "1732   5.59        0        0           0.00\n",
       "2242   5.69        0        0           0.00\n",
       "96     5.58        0        0           0.00\n",
       "1657   6.29        0        0           0.00\n",
       "...     ...      ...      ...            ...\n",
       "1064   6.28        0        0           0.00\n",
       "3599   6.34        0        0           0.00\n",
       "1044   4.48        0        1           4.48\n",
       "978    5.03        1        1           5.03\n",
       "332    6.20        0        0           0.00\n",
       "\n",
       "[839 rows x 4 columns]"
      ]
     },
     "execution_count": 67,
     "metadata": {},
     "output_type": "execute_result"
    }
   ],
   "source": [
    "X_test_3plusinteraction=X_test.loc[:,(\"Price\",\"Feature\",\"Display\",\"price*display\")]\n",
    "X_test_3plusinteraction"
   ]
  },
  {
   "cell_type": "code",
   "execution_count": 68,
   "id": "7cddfcf5",
   "metadata": {},
   "outputs": [
    {
     "name": "stdout",
     "output_type": "stream",
     "text": [
      "                            OLS Regression Results                            \n",
      "==============================================================================\n",
      "Dep. Variable:                  Sales   R-squared:                       0.595\n",
      "Model:                            OLS   Adj. R-squared:                  0.594\n",
      "Method:                 Least Squares   F-statistic:                     1229.\n",
      "Date:                Fri, 03 Jun 2022   Prob (F-statistic):               0.00\n",
      "Time:                        23:22:25   Log-Likelihood:                -18190.\n",
      "No. Observations:                3352   AIC:                         3.639e+04\n",
      "Df Residuals:                    3347   BIC:                         3.642e+04\n",
      "Df Model:                           4                                         \n",
      "Covariance Type:            nonrobust                                         \n",
      "=================================================================================\n",
      "                    coef    std err          t      P>|t|      [0.025      0.975]\n",
      "---------------------------------------------------------------------------------\n",
      "const           200.6913     10.887     18.434      0.000     179.345     222.038\n",
      "Price           -25.9475      1.856    -13.981      0.000     -29.586     -22.309\n",
      "Feature          54.5956      2.710     20.144      0.000      49.282      59.909\n",
      "Display         706.5659     25.712     27.480      0.000     656.153     756.979\n",
      "price*display  -114.7206      4.836    -23.720      0.000    -124.203    -105.238\n",
      "==============================================================================\n",
      "Omnibus:                     2192.070   Durbin-Watson:                   2.035\n",
      "Prob(Omnibus):                  0.000   Jarque-Bera (JB):            71807.300\n",
      "Skew:                           2.614   Prob(JB):                         0.00\n",
      "Kurtosis:                      25.063   Cond. No.                         163.\n",
      "==============================================================================\n",
      "\n",
      "Notes:\n",
      "[1] Standard Errors assume that the covariance matrix of the errors is correctly specified.\n"
     ]
    }
   ],
   "source": [
    "regression_results(X_3plusinteraction,y_train)"
   ]
  },
  {
   "cell_type": "code",
   "execution_count": 69,
   "id": "8b59344a",
   "metadata": {},
   "outputs": [
    {
     "data": {
      "text/html": [
       "<style>#sk-container-id-6 {color: black;background-color: white;}#sk-container-id-6 pre{padding: 0;}#sk-container-id-6 div.sk-toggleable {background-color: white;}#sk-container-id-6 label.sk-toggleable__label {cursor: pointer;display: block;width: 100%;margin-bottom: 0;padding: 0.3em;box-sizing: border-box;text-align: center;}#sk-container-id-6 label.sk-toggleable__label-arrow:before {content: \"▸\";float: left;margin-right: 0.25em;color: #696969;}#sk-container-id-6 label.sk-toggleable__label-arrow:hover:before {color: black;}#sk-container-id-6 div.sk-estimator:hover label.sk-toggleable__label-arrow:before {color: black;}#sk-container-id-6 div.sk-toggleable__content {max-height: 0;max-width: 0;overflow: hidden;text-align: left;background-color: #f0f8ff;}#sk-container-id-6 div.sk-toggleable__content pre {margin: 0.2em;color: black;border-radius: 0.25em;background-color: #f0f8ff;}#sk-container-id-6 input.sk-toggleable__control:checked~div.sk-toggleable__content {max-height: 200px;max-width: 100%;overflow: auto;}#sk-container-id-6 input.sk-toggleable__control:checked~label.sk-toggleable__label-arrow:before {content: \"▾\";}#sk-container-id-6 div.sk-estimator input.sk-toggleable__control:checked~label.sk-toggleable__label {background-color: #d4ebff;}#sk-container-id-6 div.sk-label input.sk-toggleable__control:checked~label.sk-toggleable__label {background-color: #d4ebff;}#sk-container-id-6 input.sk-hidden--visually {border: 0;clip: rect(1px 1px 1px 1px);clip: rect(1px, 1px, 1px, 1px);height: 1px;margin: -1px;overflow: hidden;padding: 0;position: absolute;width: 1px;}#sk-container-id-6 div.sk-estimator {font-family: monospace;background-color: #f0f8ff;border: 1px dotted black;border-radius: 0.25em;box-sizing: border-box;margin-bottom: 0.5em;}#sk-container-id-6 div.sk-estimator:hover {background-color: #d4ebff;}#sk-container-id-6 div.sk-parallel-item::after {content: \"\";width: 100%;border-bottom: 1px solid gray;flex-grow: 1;}#sk-container-id-6 div.sk-label:hover label.sk-toggleable__label {background-color: #d4ebff;}#sk-container-id-6 div.sk-serial::before {content: \"\";position: absolute;border-left: 1px solid gray;box-sizing: border-box;top: 0;bottom: 0;left: 50%;z-index: 0;}#sk-container-id-6 div.sk-serial {display: flex;flex-direction: column;align-items: center;background-color: white;padding-right: 0.2em;padding-left: 0.2em;position: relative;}#sk-container-id-6 div.sk-item {position: relative;z-index: 1;}#sk-container-id-6 div.sk-parallel {display: flex;align-items: stretch;justify-content: center;background-color: white;position: relative;}#sk-container-id-6 div.sk-item::before, #sk-container-id-6 div.sk-parallel-item::before {content: \"\";position: absolute;border-left: 1px solid gray;box-sizing: border-box;top: 0;bottom: 0;left: 50%;z-index: -1;}#sk-container-id-6 div.sk-parallel-item {display: flex;flex-direction: column;z-index: 1;position: relative;background-color: white;}#sk-container-id-6 div.sk-parallel-item:first-child::after {align-self: flex-end;width: 50%;}#sk-container-id-6 div.sk-parallel-item:last-child::after {align-self: flex-start;width: 50%;}#sk-container-id-6 div.sk-parallel-item:only-child::after {width: 0;}#sk-container-id-6 div.sk-dashed-wrapped {border: 1px dashed gray;margin: 0 0.4em 0.5em 0.4em;box-sizing: border-box;padding-bottom: 0.4em;background-color: white;}#sk-container-id-6 div.sk-label label {font-family: monospace;font-weight: bold;display: inline-block;line-height: 1.2em;}#sk-container-id-6 div.sk-label-container {text-align: center;}#sk-container-id-6 div.sk-container {/* jupyter's `normalize.less` sets `[hidden] { display: none; }` but bootstrap.min.css set `[hidden] { display: none !important; }` so we also need the `!important` here to be able to override the default hidden behavior on the sphinx rendered scikit-learn.org. See: https://github.com/scikit-learn/scikit-learn/issues/21755 */display: inline-block !important;position: relative;}#sk-container-id-6 div.sk-text-repr-fallback {display: none;}</style><div id=\"sk-container-id-6\" class=\"sk-top-container\"><div class=\"sk-text-repr-fallback\"><pre>LinearRegression()</pre><b>In a Jupyter environment, please rerun this cell to show the HTML representation or trust the notebook. <br />On GitHub, the HTML representation is unable to render, please try loading this page with nbviewer.org.</b></div><div class=\"sk-container\" hidden><div class=\"sk-item\"><div class=\"sk-estimator sk-toggleable\"><input class=\"sk-toggleable__control sk-hidden--visually\" id=\"sk-estimator-id-6\" type=\"checkbox\" checked><label for=\"sk-estimator-id-6\" class=\"sk-toggleable__label sk-toggleable__label-arrow\">LinearRegression</label><div class=\"sk-toggleable__content\"><pre>LinearRegression()</pre></div></div></div></div></div>"
      ],
      "text/plain": [
       "LinearRegression()"
      ]
     },
     "execution_count": 69,
     "metadata": {},
     "output_type": "execute_result"
    }
   ],
   "source": [
    "lr_3plusinteraction= LinearRegression()\n",
    "lr_3plusinteraction.fit(X_3plusinteraction,y_train)"
   ]
  },
  {
   "cell_type": "code",
   "execution_count": 70,
   "id": "4ed35975",
   "metadata": {},
   "outputs": [
    {
     "data": {
      "text/plain": [
       "0.6727983382645468"
      ]
     },
     "execution_count": 70,
     "metadata": {},
     "output_type": "execute_result"
    }
   ],
   "source": [
    "lr_3plusinteraction.score(X_test_3plusinteraction,y_test)"
   ]
  },
  {
   "cell_type": "markdown",
   "id": "197916b3",
   "metadata": {},
   "source": [
    "# Adj R2"
   ]
  },
  {
   "cell_type": "code",
   "execution_count": 71,
   "id": "65ef2f15",
   "metadata": {},
   "outputs": [
    {
     "data": {
      "text/plain": [
       "0.6712290257382377"
      ]
     },
     "execution_count": 71,
     "metadata": {},
     "output_type": "execute_result"
    }
   ],
   "source": [
    "1 - (1-lr_3plusinteraction.score(X_test_3plusinteraction, y_test))*(len(y_test)-1)/(len(y_test)-X_test_3plusinteraction.shape[1]-1)"
   ]
  },
  {
   "cell_type": "code",
   "execution_count": 72,
   "id": "9fc42e31",
   "metadata": {
    "scrolled": false
   },
   "outputs": [],
   "source": [
    "y_pred_6 = lr_3plusinteraction.predict(X_test_3plusinteraction)\n",
    "#y_pred_6"
   ]
  },
  {
   "cell_type": "markdown",
   "id": "72b85985",
   "metadata": {},
   "source": [
    "# MAE,RMSE"
   ]
  },
  {
   "cell_type": "code",
   "execution_count": 73,
   "id": "454e48b3",
   "metadata": {},
   "outputs": [
    {
     "data": {
      "text/plain": [
       "31.776474606630966"
      ]
     },
     "execution_count": 73,
     "metadata": {},
     "output_type": "execute_result"
    }
   ],
   "source": [
    "mae=mean_absolute_error(y_test,y_pred_6)\n",
    "mae"
   ]
  },
  {
   "cell_type": "code",
   "execution_count": 74,
   "id": "8eac3ca4",
   "metadata": {},
   "outputs": [
    {
     "data": {
      "text/plain": [
       "53.299676813757415"
      ]
     },
     "execution_count": 74,
     "metadata": {},
     "output_type": "execute_result"
    }
   ],
   "source": [
    "rmse=mean_squared_error(y_test, y_pred_6, squared=False) #squared=False --> RMSE\n",
    "rmse"
   ]
  },
  {
   "cell_type": "markdown",
   "id": "5fba71c4",
   "metadata": {},
   "source": [
    "# Taking 3 fetures, one most dominat competitor, and display*price"
   ]
  },
  {
   "cell_type": "code",
   "execution_count": 75,
   "id": "b833c78f",
   "metadata": {},
   "outputs": [
    {
     "data": {
      "text/html": [
       "<div>\n",
       "<style scoped>\n",
       "    .dataframe tbody tr th:only-of-type {\n",
       "        vertical-align: middle;\n",
       "    }\n",
       "\n",
       "    .dataframe tbody tr th {\n",
       "        vertical-align: top;\n",
       "    }\n",
       "\n",
       "    .dataframe thead th {\n",
       "        text-align: right;\n",
       "    }\n",
       "</style>\n",
       "<table border=\"1\" class=\"dataframe\">\n",
       "  <thead>\n",
       "    <tr style=\"text-align: right;\">\n",
       "      <th></th>\n",
       "      <th>Price</th>\n",
       "      <th>Feature</th>\n",
       "      <th>Display</th>\n",
       "      <th>Price - Competitor 1</th>\n",
       "      <th>Price - Competitor 2</th>\n",
       "      <th>Price - Competitor 3</th>\n",
       "      <th>Price - Competitor 4</th>\n",
       "      <th>Price - Competitor 5</th>\n",
       "      <th>price*display</th>\n",
       "    </tr>\n",
       "  </thead>\n",
       "  <tbody>\n",
       "    <tr>\n",
       "      <th>2459</th>\n",
       "      <td>5.89</td>\n",
       "      <td>0</td>\n",
       "      <td>0</td>\n",
       "      <td>3.39</td>\n",
       "      <td>3.51</td>\n",
       "      <td>5.42</td>\n",
       "      <td>4.31</td>\n",
       "      <td>2.62</td>\n",
       "      <td>0.0</td>\n",
       "    </tr>\n",
       "    <tr>\n",
       "      <th>2600</th>\n",
       "      <td>6.29</td>\n",
       "      <td>0</td>\n",
       "      <td>0</td>\n",
       "      <td>4.78</td>\n",
       "      <td>3.90</td>\n",
       "      <td>6.11</td>\n",
       "      <td>3.70</td>\n",
       "      <td>3.79</td>\n",
       "      <td>0.0</td>\n",
       "    </tr>\n",
       "    <tr>\n",
       "      <th>3082</th>\n",
       "      <td>5.79</td>\n",
       "      <td>0</td>\n",
       "      <td>0</td>\n",
       "      <td>4.88</td>\n",
       "      <td>4.20</td>\n",
       "      <td>5.99</td>\n",
       "      <td>4.79</td>\n",
       "      <td>3.39</td>\n",
       "      <td>0.0</td>\n",
       "    </tr>\n",
       "    <tr>\n",
       "      <th>862</th>\n",
       "      <td>5.89</td>\n",
       "      <td>0</td>\n",
       "      <td>0</td>\n",
       "      <td>4.32</td>\n",
       "      <td>3.66</td>\n",
       "      <td>5.68</td>\n",
       "      <td>4.78</td>\n",
       "      <td>3.29</td>\n",
       "      <td>0.0</td>\n",
       "    </tr>\n",
       "    <tr>\n",
       "      <th>3990</th>\n",
       "      <td>5.27</td>\n",
       "      <td>0</td>\n",
       "      <td>0</td>\n",
       "      <td>5.29</td>\n",
       "      <td>4.21</td>\n",
       "      <td>6.39</td>\n",
       "      <td>4.04</td>\n",
       "      <td>3.89</td>\n",
       "      <td>0.0</td>\n",
       "    </tr>\n",
       "    <tr>\n",
       "      <th>...</th>\n",
       "      <td>...</td>\n",
       "      <td>...</td>\n",
       "      <td>...</td>\n",
       "      <td>...</td>\n",
       "      <td>...</td>\n",
       "      <td>...</td>\n",
       "      <td>...</td>\n",
       "      <td>...</td>\n",
       "      <td>...</td>\n",
       "    </tr>\n",
       "    <tr>\n",
       "      <th>3444</th>\n",
       "      <td>6.29</td>\n",
       "      <td>0</td>\n",
       "      <td>0</td>\n",
       "      <td>4.99</td>\n",
       "      <td>3.62</td>\n",
       "      <td>5.89</td>\n",
       "      <td>3.73</td>\n",
       "      <td>3.79</td>\n",
       "      <td>0.0</td>\n",
       "    </tr>\n",
       "    <tr>\n",
       "      <th>466</th>\n",
       "      <td>5.02</td>\n",
       "      <td>1</td>\n",
       "      <td>0</td>\n",
       "      <td>3.93</td>\n",
       "      <td>4.00</td>\n",
       "      <td>6.33</td>\n",
       "      <td>4.51</td>\n",
       "      <td>2.45</td>\n",
       "      <td>0.0</td>\n",
       "    </tr>\n",
       "    <tr>\n",
       "      <th>3092</th>\n",
       "      <td>5.89</td>\n",
       "      <td>0</td>\n",
       "      <td>0</td>\n",
       "      <td>4.89</td>\n",
       "      <td>3.55</td>\n",
       "      <td>5.99</td>\n",
       "      <td>4.89</td>\n",
       "      <td>3.49</td>\n",
       "      <td>0.0</td>\n",
       "    </tr>\n",
       "    <tr>\n",
       "      <th>3772</th>\n",
       "      <td>5.50</td>\n",
       "      <td>0</td>\n",
       "      <td>0</td>\n",
       "      <td>2.99</td>\n",
       "      <td>3.69</td>\n",
       "      <td>5.00</td>\n",
       "      <td>3.50</td>\n",
       "      <td>2.00</td>\n",
       "      <td>0.0</td>\n",
       "    </tr>\n",
       "    <tr>\n",
       "      <th>860</th>\n",
       "      <td>6.19</td>\n",
       "      <td>0</td>\n",
       "      <td>0</td>\n",
       "      <td>3.81</td>\n",
       "      <td>3.34</td>\n",
       "      <td>5.87</td>\n",
       "      <td>4.69</td>\n",
       "      <td>3.69</td>\n",
       "      <td>0.0</td>\n",
       "    </tr>\n",
       "  </tbody>\n",
       "</table>\n",
       "<p>3352 rows × 9 columns</p>\n",
       "</div>"
      ],
      "text/plain": [
       "      Price  Feature  Display  Price - Competitor 1  Price - Competitor 2  \\\n",
       "2459   5.89        0        0                  3.39                  3.51   \n",
       "2600   6.29        0        0                  4.78                  3.90   \n",
       "3082   5.79        0        0                  4.88                  4.20   \n",
       "862    5.89        0        0                  4.32                  3.66   \n",
       "3990   5.27        0        0                  5.29                  4.21   \n",
       "...     ...      ...      ...                   ...                   ...   \n",
       "3444   6.29        0        0                  4.99                  3.62   \n",
       "466    5.02        1        0                  3.93                  4.00   \n",
       "3092   5.89        0        0                  4.89                  3.55   \n",
       "3772   5.50        0        0                  2.99                  3.69   \n",
       "860    6.19        0        0                  3.81                  3.34   \n",
       "\n",
       "      Price - Competitor 3  Price - Competitor 4  Price - Competitor 5  \\\n",
       "2459                  5.42                  4.31                  2.62   \n",
       "2600                  6.11                  3.70                  3.79   \n",
       "3082                  5.99                  4.79                  3.39   \n",
       "862                   5.68                  4.78                  3.29   \n",
       "3990                  6.39                  4.04                  3.89   \n",
       "...                    ...                   ...                   ...   \n",
       "3444                  5.89                  3.73                  3.79   \n",
       "466                   6.33                  4.51                  2.45   \n",
       "3092                  5.99                  4.89                  3.49   \n",
       "3772                  5.00                  3.50                  2.00   \n",
       "860                   5.87                  4.69                  3.69   \n",
       "\n",
       "      price*display  \n",
       "2459            0.0  \n",
       "2600            0.0  \n",
       "3082            0.0  \n",
       "862             0.0  \n",
       "3990            0.0  \n",
       "...             ...  \n",
       "3444            0.0  \n",
       "466             0.0  \n",
       "3092            0.0  \n",
       "3772            0.0  \n",
       "860             0.0  \n",
       "\n",
       "[3352 rows x 9 columns]"
      ]
     },
     "execution_count": 75,
     "metadata": {},
     "output_type": "execute_result"
    }
   ],
   "source": [
    "X_train"
   ]
  },
  {
   "cell_type": "code",
   "execution_count": 76,
   "id": "7a31a9f3",
   "metadata": {},
   "outputs": [
    {
     "data": {
      "text/html": [
       "<div>\n",
       "<style scoped>\n",
       "    .dataframe tbody tr th:only-of-type {\n",
       "        vertical-align: middle;\n",
       "    }\n",
       "\n",
       "    .dataframe tbody tr th {\n",
       "        vertical-align: top;\n",
       "    }\n",
       "\n",
       "    .dataframe thead th {\n",
       "        text-align: right;\n",
       "    }\n",
       "</style>\n",
       "<table border=\"1\" class=\"dataframe\">\n",
       "  <thead>\n",
       "    <tr style=\"text-align: right;\">\n",
       "      <th></th>\n",
       "      <th>Price</th>\n",
       "      <th>Feature</th>\n",
       "      <th>Display</th>\n",
       "      <th>price*display</th>\n",
       "      <th>Price - Competitor 1</th>\n",
       "    </tr>\n",
       "  </thead>\n",
       "  <tbody>\n",
       "    <tr>\n",
       "      <th>2459</th>\n",
       "      <td>5.89</td>\n",
       "      <td>0</td>\n",
       "      <td>0</td>\n",
       "      <td>0.0</td>\n",
       "      <td>3.39</td>\n",
       "    </tr>\n",
       "    <tr>\n",
       "      <th>2600</th>\n",
       "      <td>6.29</td>\n",
       "      <td>0</td>\n",
       "      <td>0</td>\n",
       "      <td>0.0</td>\n",
       "      <td>4.78</td>\n",
       "    </tr>\n",
       "    <tr>\n",
       "      <th>3082</th>\n",
       "      <td>5.79</td>\n",
       "      <td>0</td>\n",
       "      <td>0</td>\n",
       "      <td>0.0</td>\n",
       "      <td>4.88</td>\n",
       "    </tr>\n",
       "    <tr>\n",
       "      <th>862</th>\n",
       "      <td>5.89</td>\n",
       "      <td>0</td>\n",
       "      <td>0</td>\n",
       "      <td>0.0</td>\n",
       "      <td>4.32</td>\n",
       "    </tr>\n",
       "    <tr>\n",
       "      <th>3990</th>\n",
       "      <td>5.27</td>\n",
       "      <td>0</td>\n",
       "      <td>0</td>\n",
       "      <td>0.0</td>\n",
       "      <td>5.29</td>\n",
       "    </tr>\n",
       "    <tr>\n",
       "      <th>...</th>\n",
       "      <td>...</td>\n",
       "      <td>...</td>\n",
       "      <td>...</td>\n",
       "      <td>...</td>\n",
       "      <td>...</td>\n",
       "    </tr>\n",
       "    <tr>\n",
       "      <th>3444</th>\n",
       "      <td>6.29</td>\n",
       "      <td>0</td>\n",
       "      <td>0</td>\n",
       "      <td>0.0</td>\n",
       "      <td>4.99</td>\n",
       "    </tr>\n",
       "    <tr>\n",
       "      <th>466</th>\n",
       "      <td>5.02</td>\n",
       "      <td>1</td>\n",
       "      <td>0</td>\n",
       "      <td>0.0</td>\n",
       "      <td>3.93</td>\n",
       "    </tr>\n",
       "    <tr>\n",
       "      <th>3092</th>\n",
       "      <td>5.89</td>\n",
       "      <td>0</td>\n",
       "      <td>0</td>\n",
       "      <td>0.0</td>\n",
       "      <td>4.89</td>\n",
       "    </tr>\n",
       "    <tr>\n",
       "      <th>3772</th>\n",
       "      <td>5.50</td>\n",
       "      <td>0</td>\n",
       "      <td>0</td>\n",
       "      <td>0.0</td>\n",
       "      <td>2.99</td>\n",
       "    </tr>\n",
       "    <tr>\n",
       "      <th>860</th>\n",
       "      <td>6.19</td>\n",
       "      <td>0</td>\n",
       "      <td>0</td>\n",
       "      <td>0.0</td>\n",
       "      <td>3.81</td>\n",
       "    </tr>\n",
       "  </tbody>\n",
       "</table>\n",
       "<p>3352 rows × 5 columns</p>\n",
       "</div>"
      ],
      "text/plain": [
       "      Price  Feature  Display  price*display  Price - Competitor 1\n",
       "2459   5.89        0        0            0.0                  3.39\n",
       "2600   6.29        0        0            0.0                  4.78\n",
       "3082   5.79        0        0            0.0                  4.88\n",
       "862    5.89        0        0            0.0                  4.32\n",
       "3990   5.27        0        0            0.0                  5.29\n",
       "...     ...      ...      ...            ...                   ...\n",
       "3444   6.29        0        0            0.0                  4.99\n",
       "466    5.02        1        0            0.0                  3.93\n",
       "3092   5.89        0        0            0.0                  4.89\n",
       "3772   5.50        0        0            0.0                  2.99\n",
       "860    6.19        0        0            0.0                  3.81\n",
       "\n",
       "[3352 rows x 5 columns]"
      ]
     },
     "execution_count": 76,
     "metadata": {},
     "output_type": "execute_result"
    }
   ],
   "source": [
    "X_3plusinteractionpluscomp1 = X_train.loc[:,(\"Price\",\"Feature\",\"Display\",\"price*display\",\"Price - Competitor 1\")]\n",
    "X_3plusinteractionpluscomp1"
   ]
  },
  {
   "cell_type": "code",
   "execution_count": 77,
   "id": "a77a1ccf",
   "metadata": {},
   "outputs": [
    {
     "data": {
      "text/html": [
       "<div>\n",
       "<style scoped>\n",
       "    .dataframe tbody tr th:only-of-type {\n",
       "        vertical-align: middle;\n",
       "    }\n",
       "\n",
       "    .dataframe tbody tr th {\n",
       "        vertical-align: top;\n",
       "    }\n",
       "\n",
       "    .dataframe thead th {\n",
       "        text-align: right;\n",
       "    }\n",
       "</style>\n",
       "<table border=\"1\" class=\"dataframe\">\n",
       "  <thead>\n",
       "    <tr style=\"text-align: right;\">\n",
       "      <th></th>\n",
       "      <th>Price</th>\n",
       "      <th>Feature</th>\n",
       "      <th>Display</th>\n",
       "      <th>price*display</th>\n",
       "      <th>Price - Competitor 1</th>\n",
       "    </tr>\n",
       "  </thead>\n",
       "  <tbody>\n",
       "    <tr>\n",
       "      <th>4085</th>\n",
       "      <td>6.49</td>\n",
       "      <td>0</td>\n",
       "      <td>0</td>\n",
       "      <td>0.00</td>\n",
       "      <td>5.40</td>\n",
       "    </tr>\n",
       "    <tr>\n",
       "      <th>1732</th>\n",
       "      <td>5.59</td>\n",
       "      <td>0</td>\n",
       "      <td>0</td>\n",
       "      <td>0.00</td>\n",
       "      <td>3.55</td>\n",
       "    </tr>\n",
       "    <tr>\n",
       "      <th>2242</th>\n",
       "      <td>5.69</td>\n",
       "      <td>0</td>\n",
       "      <td>0</td>\n",
       "      <td>0.00</td>\n",
       "      <td>4.70</td>\n",
       "    </tr>\n",
       "    <tr>\n",
       "      <th>96</th>\n",
       "      <td>5.58</td>\n",
       "      <td>0</td>\n",
       "      <td>0</td>\n",
       "      <td>0.00</td>\n",
       "      <td>4.10</td>\n",
       "    </tr>\n",
       "    <tr>\n",
       "      <th>1657</th>\n",
       "      <td>6.29</td>\n",
       "      <td>0</td>\n",
       "      <td>0</td>\n",
       "      <td>0.00</td>\n",
       "      <td>3.57</td>\n",
       "    </tr>\n",
       "    <tr>\n",
       "      <th>...</th>\n",
       "      <td>...</td>\n",
       "      <td>...</td>\n",
       "      <td>...</td>\n",
       "      <td>...</td>\n",
       "      <td>...</td>\n",
       "    </tr>\n",
       "    <tr>\n",
       "      <th>1064</th>\n",
       "      <td>6.28</td>\n",
       "      <td>0</td>\n",
       "      <td>0</td>\n",
       "      <td>0.00</td>\n",
       "      <td>3.75</td>\n",
       "    </tr>\n",
       "    <tr>\n",
       "      <th>3599</th>\n",
       "      <td>6.34</td>\n",
       "      <td>0</td>\n",
       "      <td>0</td>\n",
       "      <td>0.00</td>\n",
       "      <td>5.09</td>\n",
       "    </tr>\n",
       "    <tr>\n",
       "      <th>1044</th>\n",
       "      <td>4.48</td>\n",
       "      <td>0</td>\n",
       "      <td>1</td>\n",
       "      <td>4.48</td>\n",
       "      <td>3.75</td>\n",
       "    </tr>\n",
       "    <tr>\n",
       "      <th>978</th>\n",
       "      <td>5.03</td>\n",
       "      <td>1</td>\n",
       "      <td>1</td>\n",
       "      <td>5.03</td>\n",
       "      <td>3.77</td>\n",
       "    </tr>\n",
       "    <tr>\n",
       "      <th>332</th>\n",
       "      <td>6.20</td>\n",
       "      <td>0</td>\n",
       "      <td>0</td>\n",
       "      <td>0.00</td>\n",
       "      <td>3.96</td>\n",
       "    </tr>\n",
       "  </tbody>\n",
       "</table>\n",
       "<p>839 rows × 5 columns</p>\n",
       "</div>"
      ],
      "text/plain": [
       "      Price  Feature  Display  price*display  Price - Competitor 1\n",
       "4085   6.49        0        0           0.00                  5.40\n",
       "1732   5.59        0        0           0.00                  3.55\n",
       "2242   5.69        0        0           0.00                  4.70\n",
       "96     5.58        0        0           0.00                  4.10\n",
       "1657   6.29        0        0           0.00                  3.57\n",
       "...     ...      ...      ...            ...                   ...\n",
       "1064   6.28        0        0           0.00                  3.75\n",
       "3599   6.34        0        0           0.00                  5.09\n",
       "1044   4.48        0        1           4.48                  3.75\n",
       "978    5.03        1        1           5.03                  3.77\n",
       "332    6.20        0        0           0.00                  3.96\n",
       "\n",
       "[839 rows x 5 columns]"
      ]
     },
     "execution_count": 77,
     "metadata": {},
     "output_type": "execute_result"
    }
   ],
   "source": [
    "X_test_3plusinteractionpluscomp1=X_test.loc[:,(\"Price\",\"Feature\",\"Display\",\"price*display\",\"Price - Competitor 1\")]\n",
    "X_test_3plusinteractionpluscomp1"
   ]
  },
  {
   "cell_type": "code",
   "execution_count": 78,
   "id": "5b6e9350",
   "metadata": {},
   "outputs": [
    {
     "name": "stdout",
     "output_type": "stream",
     "text": [
      "                            OLS Regression Results                            \n",
      "==============================================================================\n",
      "Dep. Variable:                  Sales   R-squared:                       0.599\n",
      "Model:                            OLS   Adj. R-squared:                  0.598\n",
      "Method:                 Least Squares   F-statistic:                     999.9\n",
      "Date:                Fri, 03 Jun 2022   Prob (F-statistic):               0.00\n",
      "Time:                        23:22:26   Log-Likelihood:                -18172.\n",
      "No. Observations:                3352   AIC:                         3.636e+04\n",
      "Df Residuals:                    3346   BIC:                         3.639e+04\n",
      "Df Model:                           5                                         \n",
      "Covariance Type:            nonrobust                                         \n",
      "========================================================================================\n",
      "                           coef    std err          t      P>|t|      [0.025      0.975]\n",
      "----------------------------------------------------------------------------------------\n",
      "const                  177.9315     11.499     15.473      0.000     155.385     200.478\n",
      "Price                  -27.5489      1.866    -14.760      0.000     -31.208     -23.889\n",
      "Feature                 54.9265      2.697     20.364      0.000      49.638      60.215\n",
      "Display                702.4018     25.593     27.445      0.000     652.222     752.582\n",
      "price*display         -114.4233      4.812    -23.776      0.000    -123.859    -104.988\n",
      "Price - Competitor 1     7.9144      1.342      5.898      0.000       5.284      10.545\n",
      "==============================================================================\n",
      "Omnibus:                     2168.341   Durbin-Watson:                   2.038\n",
      "Prob(Omnibus):                  0.000   Jarque-Bera (JB):            69630.779\n",
      "Skew:                           2.579   Prob(JB):                         0.00\n",
      "Kurtosis:                      24.724   Cond. No.                         199.\n",
      "==============================================================================\n",
      "\n",
      "Notes:\n",
      "[1] Standard Errors assume that the covariance matrix of the errors is correctly specified.\n"
     ]
    }
   ],
   "source": [
    "regression_results(X_3plusinteractionpluscomp1,y_train)"
   ]
  },
  {
   "cell_type": "code",
   "execution_count": 79,
   "id": "7efd59cc",
   "metadata": {},
   "outputs": [
    {
     "data": {
      "text/html": [
       "<style>#sk-container-id-7 {color: black;background-color: white;}#sk-container-id-7 pre{padding: 0;}#sk-container-id-7 div.sk-toggleable {background-color: white;}#sk-container-id-7 label.sk-toggleable__label {cursor: pointer;display: block;width: 100%;margin-bottom: 0;padding: 0.3em;box-sizing: border-box;text-align: center;}#sk-container-id-7 label.sk-toggleable__label-arrow:before {content: \"▸\";float: left;margin-right: 0.25em;color: #696969;}#sk-container-id-7 label.sk-toggleable__label-arrow:hover:before {color: black;}#sk-container-id-7 div.sk-estimator:hover label.sk-toggleable__label-arrow:before {color: black;}#sk-container-id-7 div.sk-toggleable__content {max-height: 0;max-width: 0;overflow: hidden;text-align: left;background-color: #f0f8ff;}#sk-container-id-7 div.sk-toggleable__content pre {margin: 0.2em;color: black;border-radius: 0.25em;background-color: #f0f8ff;}#sk-container-id-7 input.sk-toggleable__control:checked~div.sk-toggleable__content {max-height: 200px;max-width: 100%;overflow: auto;}#sk-container-id-7 input.sk-toggleable__control:checked~label.sk-toggleable__label-arrow:before {content: \"▾\";}#sk-container-id-7 div.sk-estimator input.sk-toggleable__control:checked~label.sk-toggleable__label {background-color: #d4ebff;}#sk-container-id-7 div.sk-label input.sk-toggleable__control:checked~label.sk-toggleable__label {background-color: #d4ebff;}#sk-container-id-7 input.sk-hidden--visually {border: 0;clip: rect(1px 1px 1px 1px);clip: rect(1px, 1px, 1px, 1px);height: 1px;margin: -1px;overflow: hidden;padding: 0;position: absolute;width: 1px;}#sk-container-id-7 div.sk-estimator {font-family: monospace;background-color: #f0f8ff;border: 1px dotted black;border-radius: 0.25em;box-sizing: border-box;margin-bottom: 0.5em;}#sk-container-id-7 div.sk-estimator:hover {background-color: #d4ebff;}#sk-container-id-7 div.sk-parallel-item::after {content: \"\";width: 100%;border-bottom: 1px solid gray;flex-grow: 1;}#sk-container-id-7 div.sk-label:hover label.sk-toggleable__label {background-color: #d4ebff;}#sk-container-id-7 div.sk-serial::before {content: \"\";position: absolute;border-left: 1px solid gray;box-sizing: border-box;top: 0;bottom: 0;left: 50%;z-index: 0;}#sk-container-id-7 div.sk-serial {display: flex;flex-direction: column;align-items: center;background-color: white;padding-right: 0.2em;padding-left: 0.2em;position: relative;}#sk-container-id-7 div.sk-item {position: relative;z-index: 1;}#sk-container-id-7 div.sk-parallel {display: flex;align-items: stretch;justify-content: center;background-color: white;position: relative;}#sk-container-id-7 div.sk-item::before, #sk-container-id-7 div.sk-parallel-item::before {content: \"\";position: absolute;border-left: 1px solid gray;box-sizing: border-box;top: 0;bottom: 0;left: 50%;z-index: -1;}#sk-container-id-7 div.sk-parallel-item {display: flex;flex-direction: column;z-index: 1;position: relative;background-color: white;}#sk-container-id-7 div.sk-parallel-item:first-child::after {align-self: flex-end;width: 50%;}#sk-container-id-7 div.sk-parallel-item:last-child::after {align-self: flex-start;width: 50%;}#sk-container-id-7 div.sk-parallel-item:only-child::after {width: 0;}#sk-container-id-7 div.sk-dashed-wrapped {border: 1px dashed gray;margin: 0 0.4em 0.5em 0.4em;box-sizing: border-box;padding-bottom: 0.4em;background-color: white;}#sk-container-id-7 div.sk-label label {font-family: monospace;font-weight: bold;display: inline-block;line-height: 1.2em;}#sk-container-id-7 div.sk-label-container {text-align: center;}#sk-container-id-7 div.sk-container {/* jupyter's `normalize.less` sets `[hidden] { display: none; }` but bootstrap.min.css set `[hidden] { display: none !important; }` so we also need the `!important` here to be able to override the default hidden behavior on the sphinx rendered scikit-learn.org. See: https://github.com/scikit-learn/scikit-learn/issues/21755 */display: inline-block !important;position: relative;}#sk-container-id-7 div.sk-text-repr-fallback {display: none;}</style><div id=\"sk-container-id-7\" class=\"sk-top-container\"><div class=\"sk-text-repr-fallback\"><pre>LinearRegression()</pre><b>In a Jupyter environment, please rerun this cell to show the HTML representation or trust the notebook. <br />On GitHub, the HTML representation is unable to render, please try loading this page with nbviewer.org.</b></div><div class=\"sk-container\" hidden><div class=\"sk-item\"><div class=\"sk-estimator sk-toggleable\"><input class=\"sk-toggleable__control sk-hidden--visually\" id=\"sk-estimator-id-7\" type=\"checkbox\" checked><label for=\"sk-estimator-id-7\" class=\"sk-toggleable__label sk-toggleable__label-arrow\">LinearRegression</label><div class=\"sk-toggleable__content\"><pre>LinearRegression()</pre></div></div></div></div></div>"
      ],
      "text/plain": [
       "LinearRegression()"
      ]
     },
     "execution_count": 79,
     "metadata": {},
     "output_type": "execute_result"
    }
   ],
   "source": [
    "lr_3plusinteractionpluscomp1= LinearRegression()\n",
    "lr_3plusinteractionpluscomp1.fit(X_3plusinteractionpluscomp1,y_train)"
   ]
  },
  {
   "cell_type": "code",
   "execution_count": 80,
   "id": "4eafe494",
   "metadata": {},
   "outputs": [
    {
     "data": {
      "text/plain": [
       "0.6768901408776935"
      ]
     },
     "execution_count": 80,
     "metadata": {},
     "output_type": "execute_result"
    }
   ],
   "source": [
    "lr_3plusinteractionpluscomp1.score(X_test_3plusinteractionpluscomp1,y_test)"
   ]
  },
  {
   "cell_type": "markdown",
   "id": "47d19cf4",
   "metadata": {},
   "source": [
    "# Adj R2"
   ]
  },
  {
   "cell_type": "code",
   "execution_count": 81,
   "id": "c8765f72",
   "metadata": {},
   "outputs": [
    {
     "data": {
      "text/plain": [
       "0.6749507059489882"
      ]
     },
     "execution_count": 81,
     "metadata": {},
     "output_type": "execute_result"
    }
   ],
   "source": [
    "1 - (1-lr_3plusinteractionpluscomp1.score(X_test_3plusinteractionpluscomp1, y_test))*(len(y_test)-1)/(len(y_test)-X_test_3plusinteractionpluscomp1.shape[1]-1)"
   ]
  },
  {
   "cell_type": "markdown",
   "id": "e9a5dfc2",
   "metadata": {},
   "source": [
    "# MAE,RMSE"
   ]
  },
  {
   "cell_type": "code",
   "execution_count": 82,
   "id": "42a07a14",
   "metadata": {
    "scrolled": false
   },
   "outputs": [],
   "source": [
    "y_pred_7 = lr_3plusinteractionpluscomp1.predict(X_test_3plusinteractionpluscomp1)\n",
    "#y_pred_7"
   ]
  },
  {
   "cell_type": "code",
   "execution_count": 83,
   "id": "135b4aa0",
   "metadata": {},
   "outputs": [
    {
     "data": {
      "text/plain": [
       "31.54341496127361"
      ]
     },
     "execution_count": 83,
     "metadata": {},
     "output_type": "execute_result"
    }
   ],
   "source": [
    "mae=mean_absolute_error(y_test,y_pred_7)\n",
    "mae"
   ]
  },
  {
   "cell_type": "code",
   "execution_count": 84,
   "id": "44c57ede",
   "metadata": {},
   "outputs": [
    {
     "data": {
      "text/plain": [
       "52.9653602239597"
      ]
     },
     "execution_count": 84,
     "metadata": {},
     "output_type": "execute_result"
    }
   ],
   "source": [
    "rmse=mean_squared_error(y_test, y_pred_7, squared=False) #squared=False --> RMSE\n",
    "rmse"
   ]
  },
  {
   "cell_type": "markdown",
   "id": "4080ebed",
   "metadata": {},
   "source": [
    "# final table "
   ]
  },
  {
   "cell_type": "code",
   "execution_count": 93,
   "id": "d2e38a71",
   "metadata": {},
   "outputs": [
    {
     "data": {
      "text/html": [
       "<div>\n",
       "<style scoped>\n",
       "    .dataframe tbody tr th:only-of-type {\n",
       "        vertical-align: middle;\n",
       "    }\n",
       "\n",
       "    .dataframe tbody tr th {\n",
       "        vertical-align: top;\n",
       "    }\n",
       "\n",
       "    .dataframe thead th {\n",
       "        text-align: right;\n",
       "    }\n",
       "</style>\n",
       "<table border=\"1\" class=\"dataframe\">\n",
       "  <thead>\n",
       "    <tr style=\"text-align: right;\">\n",
       "      <th></th>\n",
       "      <th>feature</th>\n",
       "      <th>adj r2</th>\n",
       "      <th>mae</th>\n",
       "      <th>rmse</th>\n",
       "    </tr>\n",
       "  </thead>\n",
       "  <tbody>\n",
       "    <tr>\n",
       "      <th>0</th>\n",
       "      <td>price</td>\n",
       "      <td>0.3771</td>\n",
       "      <td>41.24</td>\n",
       "      <td>73.490</td>\n",
       "    </tr>\n",
       "    <tr>\n",
       "      <th>1</th>\n",
       "      <td>First 3</td>\n",
       "      <td>0.5736</td>\n",
       "      <td>33.87</td>\n",
       "      <td>60.730</td>\n",
       "    </tr>\n",
       "    <tr>\n",
       "      <th>2</th>\n",
       "      <td>All</td>\n",
       "      <td>0.5801</td>\n",
       "      <td>33.81</td>\n",
       "      <td>60.080</td>\n",
       "    </tr>\n",
       "    <tr>\n",
       "      <th>3</th>\n",
       "      <td>w/o com2 and com3</td>\n",
       "      <td>0.5801</td>\n",
       "      <td>33.89</td>\n",
       "      <td>60.150</td>\n",
       "    </tr>\n",
       "    <tr>\n",
       "      <th>4</th>\n",
       "      <td>all + price*disp</td>\n",
       "      <td>0.6757</td>\n",
       "      <td>31.47</td>\n",
       "      <td>52.770</td>\n",
       "    </tr>\n",
       "    <tr>\n",
       "      <th>5</th>\n",
       "      <td>first3 + price*disp</td>\n",
       "      <td>0.6712</td>\n",
       "      <td>31.77</td>\n",
       "      <td>53.299</td>\n",
       "    </tr>\n",
       "    <tr>\n",
       "      <th>6</th>\n",
       "      <td>first3+ main com+ price*disp</td>\n",
       "      <td>0.6749</td>\n",
       "      <td>31.54</td>\n",
       "      <td>52.960</td>\n",
       "    </tr>\n",
       "  </tbody>\n",
       "</table>\n",
       "</div>"
      ],
      "text/plain": [
       "                        feature  adj r2    mae    rmse\n",
       "0                         price  0.3771  41.24  73.490\n",
       "1                       First 3  0.5736  33.87  60.730\n",
       "2                           All  0.5801  33.81  60.080\n",
       "3             w/o com2 and com3  0.5801  33.89  60.150\n",
       "4              all + price*disp  0.6757  31.47  52.770\n",
       "5           first3 + price*disp  0.6712  31.77  53.299\n",
       "6  first3+ main com+ price*disp  0.6749  31.54  52.960"
      ]
     },
     "execution_count": 93,
     "metadata": {},
     "output_type": "execute_result"
    }
   ],
   "source": [
    "pd.DataFrame({\n",
    "        \"feature\":[\"price\",\"First 3\",\"All\",\"w/o com2 and com3\",\"all + price*disp\",\"first3 + price*disp\",\"first3+ main com+ price*disp\"],\n",
    "        \"adj r2\":[0.3771,0.5736,0.5801,0.5801,0.6757,0.6712,0.6749],\n",
    "        \"mae\":[41.24,33.87,33.81,33.89,31.47,31.77,31.54],\n",
    "        \"rmse\":[73.49,60.73,60.08,60.15,52.77,53.299,52.96]\n",
    "})"
   ]
  },
  {
   "cell_type": "markdown",
   "id": "a39cdf82",
   "metadata": {},
   "source": [
    "# so, I would take the decision no 6 "
   ]
  },
  {
   "cell_type": "code",
   "execution_count": null,
   "id": "1de6ff74",
   "metadata": {},
   "outputs": [],
   "source": []
  }
 ],
 "metadata": {
  "kernelspec": {
   "display_name": "Python 3",
   "language": "python",
   "name": "python3"
  },
  "language_info": {
   "codemirror_mode": {
    "name": "ipython",
    "version": 3
   },
   "file_extension": ".py",
   "mimetype": "text/x-python",
   "name": "python",
   "nbconvert_exporter": "python",
   "pygments_lexer": "ipython3",
   "version": "3.8.8"
  }
 },
 "nbformat": 4,
 "nbformat_minor": 5
}
